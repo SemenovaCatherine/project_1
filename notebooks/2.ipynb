{
 "cells": [
  {
   "cell_type": "markdown",
   "metadata": {},
   "source": [
    "# 🌦 Анализ погоды в Москве, Санкт-Петербурге и Самаре\n",
    "### Автоматизированная система сравнения метеопараметров"
   ]
  },
  {
   "cell_type": "code",
   "execution_count": null,
   "metadata": {},
   "outputs": [],
   "source": [
    "import pandas as pd\n",
    "import plotly.express as px\n",
    "import plotly.graph_objects as go\n",
    "from plotly.subplots import make_subplots\n",
    "from IPython.display import display, HTML\n",
    "\n",
    "# Стилизация вывода\n",
    "display(HTML('''\n",
    "<style>\n",
    ".header {\n",
    "    color: #3498db;\n",
    "    font-family: Arial;\n",
    "    text-align: center;\n",
    "}\n",
    ".plot-container {\n",
    "    margin: 20px 0;\n",
    "    border: 1px solid #eee;\n",
    "    border-radius: 5px;\n",
    "    padding: 10px;\n",
    "}\n",
    "</style>\n",
    "'''))"
   ]
  },
  {
   "cell_type": "markdown",
   "metadata": {},
   "source": [
    "## 📈 Основные метеопараметры"
   ]
  },
  {
   "cell_type": "code",
   "execution_count": null,
   "metadata": {},
   "outputs": [],
   "source": [
    "# Создаем интерактивную панель с 4 графиками\n",
    "fig = make_subplots(\n",
    "    rows=2, cols=2,\n",
    "    subplot_titles=(\"Температура\", \"Влажность\", \"Атм. давление\", \"Осадки\")\n",
    ")\n",
    "\n",
    "# Добавляем графики\n",
    "for city in weather['city'].unique():\n",
    "    city_data = weather[weather['city'] == city]\n",
    "    \n",
    "    fig.add_trace(\n",
    "        go.Scatter(x=city_data['datetime'], y=city_data['temp_c'], name=f\"{city} - Температура\"),\n",
    "        row=1, col=1\n",
    "    )\n",
    "    \n",
    "    fig.add_trace(\n",
    "        go.Scatter(x=city_data['datetime'], y=city_data['humidity'], name=f\"{city} - Влажность\"),\n",
    "        row=1, col=2\n",
    "    )\n",
    "    \n",
    "    fig.add_trace(\n",
    "        go.Scatter(x=city_data['datetime'], y=city_data['pressure'], name=f\"{city} - Давление\"),\n",
    "        row=2, col=1\n",
    "    )\n",
    "    \n",
    "    fig.add_trace(\n",
    "        go.Bar(x=city_data['datetime'], y=city_data['rain_mm'], name=f\"{city} - Осадки\"),\n",
    "        row=2, col=2\n",
    "    )\n",
    "\n",
    "# Настройка оформления\n",
    "fig.update_layout(\n",
    "    height=800,\n",
    "    title_text=\"<b>Сравнение основных метеопараметров</b>\",\n",
    "    hovermode=\"x unified\",\n",
    "    template=\"plotly_white\"\n",
    ")\n",
    "\n",
    "fig.show()"
   ]
  },
  {
   "cell_type": "markdown",
   "metadata": {},
   "source": [
    "## 🌡️ Тепловая карта температур"
   ]
  },
  {
   "cell_type": "code",
   "execution_count": null,
   "metadata": {},
   "outputs": [],
   "source": [
    "fig = px.imshow(\n",
    "    pd.pivot_table(weather, values='temp_c', index='city', columns='datetime'),\n",
    "    labels=dict(x=\"Дата\", y=\"Город\", color=\"Температура\"),\n",
    "    color_continuous_scale='RdBu_r',\n",
    "    title='<b>Тепловая карта температур по дням</b>'\n",
    ")\n",
    "fig.update_xaxes(side=\"top\")\n",
    "fig.show()"
   ]
  },
  {
   "cell_type": "markdown",
   "metadata": {},
   "source": [
    "## 🌀 Ветровые условия"
   ]
  },
  {
   "cell_type": "code",
   "execution_count": null,
   "metadata": {},
   "outputs": [],
   "source": [
    "fig = px.scatter_polar(\n",
    "    weather, \n",
    "    r=\"wind_speed_kmh\", \n",
    "    theta=\"datetime\",\n",
    "    color=\"city\", \n",
    "    symbol=\"city\",\n",
    "    title=\"<b>Роза ветров по городам</b>\",\n",
    "    template=\"plotly_dark\"\n",
    ")\n",
    "fig.update_traces(\n",
    "    marker=dict(size=8, line=dict(width=1, color='DarkSlateGrey'))\n",
    ")\n",
    "fig.show()"
   ]
  },
  {
   "cell_type": "markdown",
   "metadata": {},
   "source": [
    "## 📊 Сравнительная статистика"
   ]
  },
  {
   "cell_type": "code",
   "execution_count": null,
   "metadata": {},
   "outputs": [],
   "source": [
    "# Создаем интерактивную таблицу с показателями\n",
    "stats = weather.groupby('city').agg({\n",
    "    'temp_c': ['mean', 'max', 'min'],\n",
    "    'humidity': 'mean',\n",
    "    'wind_speed_kmh': 'max',\n",
    "    'rain_mm': 'sum'\n",
    "}).round(1)\n",
    "\n",
    "fig = go.Figure(data=[go.Table(\n",
    "    header=dict(\n",
    "        values=['Город', 'Ср. темп.', 'Макс. темп.', 'Мин. темп.', 'Влажность', 'Макс. ветер', 'Осадки'],\n",
    "        fill_color='#3498db',\n",
    "        font=dict(color='white', size=12)\n",
    "    ),\n",
    "    cells=dict(\n",
    "        values=[stats.index] + [stats[col] for col in stats.columns],\n",
    "        fill_color='lavender',\n",
    "        align='center'\n",
    "    ))\n",
    "])\n",
    "\n",
    "fig.update_layout(\n",
    "    title='<b>Сравнительная статистика по городам</b>',\n",
    "    margin=dict(l=0, r=0, b=0)\n",
    ")\n",
    "\n",
    "fig.show()"
   ]
  },
  {
   "cell_type": "markdown",
   "metadata": {},
   "source": [
    "## 🔍 Выводы"
   ]
  },
  {
   "cell_type": "markdown",
   "metadata": {},
   "source": [
   Температурный режим:

Самара была самым теплым городом со средней температурой 13.4°C

Санкт-Петербург оказался самым холодным со средней температурой 4.1°C

Осадки:

Санкт-Петербург получил максимальное количество осадков (13.81 мм), включая снег

Самара оставалась практически без осадков (0 мм)

Ветровые условия:

Москва испытала самые сильные порывы ветра до 31.4 км/ч

В Самаре ветер был более умеренным

Особенности:

В Санкт-Петербурге наблюдались снегопады, что необычно для мая

Москва показала наибольшие суточные перепады температуры

Самара демонстрировала наиболее стабильные погодные условия
   ]
  }
 ],
 "metadata": {
  "kernelspec": {
   "display_name": "Python 3",
   "language": "python",
   "name": "python3"
  },
  "language_info": {
   "codemirror_mode": {
    "name": "ipython",
    "version": 3
   },
   "file_extension": ".py",
   "mimetype": "text/x-python",
   "name": "python",
   "nbconvert_exporter": "python",
   "pygments_lexer": "ipython3",
   "version": "3.9.0"
  }
 },
 "nbformat": 4,
 "nbformat_minor": 4
}
