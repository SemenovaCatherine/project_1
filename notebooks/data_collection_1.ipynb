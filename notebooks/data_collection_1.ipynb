# %% [markdown]
# # Анализ погодных данных
# ## Сравнение температуры, осадков и других параметров по городам

# %%
import pandas as pd
import matplotlib.pyplot as plt
import seaborn as sns
from datetime import datetime
import os

# Настройки отображения
try:
    plt.style.use('seaborn')
except:
    plt.style.use('ggplot')  # Альтернативный стиль, если seaborn недоступен
    
sns.set_palette("husl")
pd.options.display.float_format = '{:.1f}'.format
plt.rcParams['figure.figsize'] = (14, 7)  # Установка размера графиков по умолчанию

# %% [markdown]
# ## 1. Загрузка данных

# %%
# Список городов и загрузка файлов
cities = {
    'Самара': 'weather_Самара_realtime.csv',
    'Санкт-Петербург': 'weather_Санкт-Петербург_realtime.csv', 
    'Москва': 'weather_Москва_realtime.csv'
}

dfs = {}
for city, file in cities.items():
    try:
        dfs[city] = pd.read_csv(file, parse_dates=['datetime'])
        print(f"Успешно загружено {len(dfs[city])} записей для {city}")
        
        # Добавляем дополнительные временные характеристики
        dfs[city]['date'] = dfs[city]['datetime'].dt.date
        dfs[city]['hour'] = dfs[city]['datetime'].dt.hour
        dfs[city]['day_of_week'] = dfs[city]['datetime'].dt.day_name()
        
    except FileNotFoundError:
        print(f"Ошибка: файл {file} не найден!")
    except Exception as e:
        print(f"Ошибка при загрузке {file}: {str(e)}")

# Проверяем, что данные загружены
if not dfs:
    raise Exception("Не удалось загрузить ни один файл данных!")

# %% [markdown]
# ## 2. Предварительный анализ

# %%
# Общая статистика с улучшенным форматированием
for city, df in dfs.items():
    print(f"\n{'='*50}")
    print(f"Статистика для {city}:")
    print(f"{'='*50}")
    
    # Основные статистики
    stats = df[['temp_c', 'humidity', 'pressure', 'wind_speed_kmh', 'rain_mm']].describe()
    display(stats)
    
    # Уникальные погодные условия
    print("\nУникальные погодные условия:")
    print(df['weather'].value_counts())

# %% [markdown]
# ## 3. Визуализация данных

# %%
# Сравнение температур с улучшенным оформлением
plt.figure(figsize=(16, 8))
for city, df in dfs.items():
    sns.lineplot(x='datetime', y='temp_c', data=df, label=city, linewidth=2)
    
plt.title('Сравнение температур по городам', fontsize=16, pad=20)
plt.xlabel('Дата и время', fontsize=12)
plt.ylabel('Температура (°C)', fontsize=12)
plt.xticks(rotation=45)
plt.grid(True, alpha=0.3)
plt.legend(title='Город', title_fontsize=12)
plt.tight_layout()
plt.savefig('temperature_comparison.png', dpi=300, bbox_inches='tight')
plt.show()

# %%
# Сравнение осадков с группировкой по дням
plt.figure(figsize=(16, 8))
for city, df in dfs.items():
    daily_rain = df.groupby('date')['rain_mm'].sum().reset_index()
    sns.barplot(x='date', y='rain_mm', data=daily_rain, label=city, alpha=0.7)
    
plt.title('Суммарные осадки по дням', fontsize=16, pad=20)
plt.xlabel('Дата', fontsize=12)
plt.ylabel('Осадки (мм)', fontsize=12)
plt.xticks(rotation=45)
plt.legend(title='Город', title_fontsize=12)
plt.grid(True, alpha=0.3)
plt.tight_layout()
plt.savefig('precipitation_comparison.png', dpi=300, bbox_inches='tight')
plt.show()

# %%
# Влажность и давление на отдельных графиках
fig, axes = plt.subplots(2, 1, figsize=(16, 12))

# График влажности
for city, df in dfs.items():
    sns.lineplot(ax=axes[0], x='datetime', y='humidity', data=df, label=city, linewidth=2)
    
axes[0].set_title('Влажность по городам', fontsize=14, pad=15)
axes[0].set_ylabel('Влажность (%)', fontsize=12)
axes[0].grid(True, alpha=0.3)
axes[0].legend(title='Город')

# График давления
for city, df in dfs.items():
    sns.lineplot(ax=axes[1], x='datetime', y='pressure', data=df, label=city, linewidth=2)
    
axes[1].set_title('Атмосферное давление', fontsize=14, pad=15)
axes[1].set_ylabel('Давление (гПа)', fontsize=12)
axes[1].set_xlabel('Дата и время', fontsize=12)
axes[1].grid(True, alpha=0.3)
axes[1].legend(title='Город')

plt.tight_layout()
plt.savefig('humidity_pressure_comparison.png', dpi=300, bbox_inches='tight')
plt.show()

# %% [markdown]
# ## 4. Дополнительный анализ

# %%
# Корреляция параметров с визуализацией
for city, df in dfs.items():
    print(f"\n{'='*50}")
    print(f"Корреляция параметров для {city}:")
    print(f"{'='*50}")
    
    corr = df[['temp_c', 'humidity', 'pressure', 'wind_speed_kmh', 'rain_mm']].corr()
    
    # Тепловая карта корреляций
    plt.figure(figsize=(10, 8))
    sns.heatmap(corr, annot=True, cmap='coolwarm', center=0, fmt=".2f",
                annot_kws={"size": 12}, cbar_kws={'label': 'Коэффициент корреляции'})
    plt.title(f'Корреляция параметров ({city})', fontsize=14, pad=20)
    plt.xticks(rotation=45)
    plt.yticks(rotation=0)
    plt.tight_layout()
    plt.savefig(f'correlation_{city}.png', dpi=300, bbox_inches='tight')
    plt.show()
    
    display(corr.style.background_gradient(cmap='coolwarm'))

# %%
# Анализ экстремальных значений с дополнительной информацией
for city, df in dfs.items():
    print(f"\n{'='*50}")
    print(f"Экстремальные значения для {city}:")
    print(f"{'='*50}")
    
    max_temp = df.loc[df['temp_c'].idxmax()]
    min_temp = df.loc[df['temp_c'].idxmin()]
    max_rain = df.loc[df['rain_mm'].idxmax()]
    max_wind = df.loc[df['wind_speed_kmh'].idxmax()]
    
    print(f"Максимальная температура: {max_temp['temp_c']:.1f}°C в {max_temp['datetime']} ({max_temp['weather']})")
    print(f"Минимальная температура: {min_temp['temp_c']:.1f}°C в {min_temp['datetime']} ({min_temp['weather']})")
    print(f"Максимальные осадки: {max_rain['rain_mm']:.1f} мм в {max_rain['datetime']} ({max_rain['weather']})")
    print(f"Максимальная скорость ветра: {max_wind['wind_speed_kmh']:.1f} км/ч в {max_wind['datetime']} ({max_wind['weather']})")

# %% [markdown]
# ## 5. Сохранение результатов

# %%
# Создаем папку для результатов, если ее нет
os.makedirs('results', exist_ok=True)

# Сохранение обработанных данных
for city, df in dfs.items():
    df.to_csv(f'results/processed_{city}.csv', index=False)
    print(f"Данные для {city} сохранены в results/processed_{city}.csv")

# Сохранение сводной статистики
summary_stats = pd.concat([df.describe().assign(city=city) for city, df in dfs.items()])
summary_stats.to_csv('results/summary_statistics.csv')
print("\nСводная статистика сохранена в results/summary_statistics.csv")

print("\nАнализ успешно завершен! Все результаты сохранены в папке 'results'.")
