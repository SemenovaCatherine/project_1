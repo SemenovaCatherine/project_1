{
 "cells": [
  {
   "cell_type": "code",
   "execution_count": null,
   "metadata": {},
   "outputs": [],
   "source": [
    "# Импорт библиотек\n",
    "import os\n",
    "import pandas as pd\n",
    "import matplotlib.pyplot as plt\n",
    "import seaborn as sns\n",
    "import requests\n",
    "from dotenv import load_dotenv\n",
    "from datetime import datetime, timedelta\n",
    "%matplotlib inline\n",
    "\n",
    "# Настройки\n",
    "plt.style.use('ggplot')\n",
    "plt.rcParams['figure.figsize'] = (12, 6)\n",
    "sns.set_theme()\n",
    "load_dotenv()"
   ]
  },
  {
   "cell_type": "code",
   "execution_count": null,
   "metadata": {},
   "outputs": [],
   "source": [
    "def get_weather_api_data(city, start_date, end_date):\n",
    "    \"\"\"Получение данных через Open-Meteo API\"\"\"\n",
    "    try:\n",
    "        params = {\n",
    "            \"latitude\": CITY_COORDINATES[city][\"latitude\"],\n",
    "            \"longitude\": CITY_COORDINATES[city][\"longitude\"],\n",
    "            \"hourly\": [\"temperature_2m\", \"relative_humidity_2m\", \"pressure_msl\", \"wind_speed_10m\", \"rain\"],\n",
    "            \"start_date\": start_date,\n",
    "            \"end_date\": end_date,\n",
    "            \"timezone\": \"Europe/Moscow\"\n",
    "        }\n",
    "        \n",
    "        response = requests.get(\"https://api.open-meteo.com/v1/forecast\", params=params)\n",
    "        response.raise_for_status()\n",
    "        \n",
    "        data = response.json()\n",
    "        df = pd.DataFrame({\n",
    "            \"datetime\": pd.to_datetime(data[\"hourly\"][\"time\"]),\n",
    "            \"temp_c\": data[\"hourly\"][\"temperature_2m\"],\n",
    "            \"humidity\": data[\"hourly\"][\"relative_humidity_2m\"],\n",
    "            \"pressure\": data[\"hourly\"][\"pressure_msl\"],\n",
    "            \"wind_speed_kmh\": data[\"hourly\"][\"wind_speed_10m\"],\n",
    "            \"rain_mm\": data[\"hourly\"][\"rain\"],\n",
    "            \"city\": city\n",
    "        })\n",
    "        return df\n",
    "    except Exception as e:\n",
    "        print(f\"Ошибка получения данных для {city}: {e}\")\n",
    "        return None"
   ]
  },
  {
   "cell_type": "code",
   "execution_count": null,
   "metadata": {},
   "outputs": [],
   "source": [
    "# Координаты городов\n",
    "CITY_COORDINATES = {\n",
    "    \"Москва\": {\"latitude\": 55.7558, \"longitude\": 37.6176},\n",
    "    \"Санкт-Петербург\": {\"latitude\": 59.9343, \"longitude\": 30.3351},\n",
    "    \"Самара\": {\"latitude\": 53.1951, \"longitude\": 50.1018}\n",
    "}\n",
    "\n",
    "# Получение свежих данных\n",
    "end_date = datetime.now().strftime('%Y-%m-%d')\n",
    "start_date = (datetime.now() - timedelta(days=7)).strftime('%Y-%m-%d')\n",
    "\n",
    "weather_data = []\n",
    "for city in CITY_COORDINATES.keys():\n",
    "    city_data = get_weather_api_data(city, start_date, end_date)\n",
    "    if city_data is not None:\n",
    "        weather_data.append(city_data)\n",
    "\n",
    "weather = pd.concat(weather_data)"
   ]
  },
  {
   "cell_type": "code",
   "execution_count": null,
   "metadata": {},
   "outputs": [],
   "source": [
    "# Анализ и визуализация\n",
    "def plot_weather_comparison(df, parameter, title):\n",
    "    plt.figure(figsize=(14, 6))\n",
    "    sns.lineplot(data=df, x='datetime', y=parameter, hue='city')\n",
    "    plt.title(title, fontsize=14)\n",
    "    plt.ylabel(parameter, fontsize=12)\n",
    "    plt.xlabel('Дата и время', fontsize=12)\n",
    "    plt.xticks(rotation=45)\n",
    "    plt.grid(True, alpha=0.3)\n",
    "    plt.tight_layout()\n",
    "    plt.show()\n",
    "\n",
    "# Примеры использования\n",
    "plot_weather_comparison(weather, 'temp_c', 'Сравнение температур по городам')\n",
    "plot_weather_comparison(weather, 'rain_mm', 'Сравнение осадков по городам')\n",
    "\n",
    "# Сохранение результатов\n",
    "weather.to_csv('../data/processed/current_weather.csv', index=False)"
   ]
  },
  {
   "cell_type": "code",
   "execution_count": null,
   "metadata": {},
   "outputs": [],
   "source": [
    "# Дополнительный анализ\n",
    "def calculate_comfort_index(df):\n",
    "    \"\"\"Расчёт индекса комфортности погоды\"\"\"\n",
    "    df['comfort_index'] = (\n",
    "        0.5 * df['temp_c'] + \n",
    "        0.2 * (100 - df['humidity']) + \n",
    "        0.3 * (30 - df['wind_speed_kmh']/3.6)\n",
    "    )\n",
    "    return df\n",
    "\n",
    "weather = calculate_comfort_index(weather)\n",
    "plot_weather_comparison(weather, 'comfort_index', 'Индекс комфортности погоды')"
   ]
  }
 ],
 "metadata": {
  "kernelspec": {
   "display_name": "Python 3",
   "language": "python",
   "name": "python3"
  },
  "language_info": {
   "codemirror_mode": {
    "name": "ipython",
    "version": 3
   },
   "file_extension": ".py",
   "mimetype": "text/x-python",
   "name": "python",
   "nbconvert_exporter": "python",
   "pygments_lexer": "ipython3",
   "version": "3.9.0"
  }
 },
 "nbformat": 4,
 "nbformat_minor": 4
}
