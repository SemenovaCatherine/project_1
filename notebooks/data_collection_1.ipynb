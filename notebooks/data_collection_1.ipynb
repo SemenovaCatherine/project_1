import pandas as pd
import plotly.express as px
import plotly.graph_objects as go
from plotly.subplots import make_subplots
from IPython.display import display, HTML

# Загрузка данных
moscow = pd.read_csv('weather_Москва_realtime.csv')
samara = pd.read_csv('weather_Самара_realtime.csv')
spb = pd.read_csv('weather_Санкт-Петербург_realtime.csv')

# Добавление столбца с городом
moscow['city'] = 'Москва'
samara['city'] = 'Самара'
spb['city'] = 'Санкт-Петербург'

# Объединение данных
weather = pd.concat([moscow, samara, spb])
weather['datetime'] = pd.to_datetime(weather['datetime'])

# Стилизация вывода
display(HTML('''
<style>
.header {
    color: #3498db;
    font-family: Arial;
    text-align: center;
}
.plot-container {
    margin: 20px 0;
    border: 1px solid #eee;
    border-radius: 5px;
    padding: 10px;
}
</style>
'''))

## 📈 Основные метеопараметры
fig = make_subplots(
    rows=2, cols=2,
    subplot_titles=("Температура (°C)", "Влажность (%)", "Атм. давление (гПа)", "Осадки (мм)"),
    vertical_spacing=0.1,
    horizontal_spacing=0.1
)

# Добавляем графики
for city in weather['city'].unique():
    city_data = weather[weather['city'] == city]
    
    fig.add_trace(
        go.Scatter(x=city_data['datetime'], y=city_data['temp_c'], name=f"{city}"),
        row=1, col=1
    )
    
    fig.add_trace(
        go.Scatter(x=city_data['datetime'], y=city_data['humidity'], name=f"{city}", showlegend=False),
        row=1, col=2
    )
    
    fig.add_trace(
        go.Scatter(x=city_data['datetime'], y=city_data['pressure'], name=f"{city}", showlegend=False),
        row=2, col=1
    )
    
    fig.add_trace(
        go.Bar(x=city_data['datetime'], y=city_data['rain_mm'], name=f"{city}", showlegend=False),
        row=2, col=2
    )

# Настройка оформления
fig.update_layout(
    height=800,
    title_text="<b>Сравнение основных метеопараметров</b>",
    hovermode="x unified",
    template="plotly_white",
    legend=dict(orientation="h", yanchor="bottom", y=1.02, xanchor="right", x=1)
)

fig.show()

## 🌡️ Тепловая карта температур
fig = px.imshow(
    pd.pivot_table(weather, values='temp_c', index='city', columns=weather['datetime'].dt.strftime('%m-%d %H:%M')),
    labels=dict(x="Дата и время", y="Город", color="Температура (°C)"),
    color_continuous_scale='RdBu_r',
    title='<b>Тепловая карта температур по городам</b>',
    aspect="auto"
)
fig.update_xaxes(side="top")
fig.update_layout(height=400)
fig.show()

## 🌀 Ветровые условия
fig = px.scatter_polar(
    weather, 
    r="wind_speed_kmh", 
    theta=weather['datetime'].dt.strftime('%m-%d %H:%M'),
    color="city", 
    symbol="city",
    title="<b>Роза ветров по городам</b>",
    template="plotly_dark",
    width=800,
    height=500
)
fig.update_traces(
    marker=dict(size=8, line=dict(width=1, color='DarkSlateGrey'))
fig.update_layout(
    polar=dict(radialaxis=dict(visible=True, range=[0, 35])),
    legend=dict(orientation="h", yanchor="bottom", y=1.1, xanchor="center", x=0.5)
)
fig.show()

## 📊 Сравнительная статистика
stats = weather.groupby('city').agg({
    'temp_c': ['mean', 'max', 'min'],
    'humidity': 'mean',
    'wind_speed_kmh': 'max',
    'rain_mm': 'sum'
}).round(1)

# Заполняем данные для выводов
samara_avg_temp = stats.loc['Самара', ('temp_c', 'mean')]
spb_avg_temp = stats.loc['Санкт-Петербург', ('temp_c', 'mean')]
spb_rain = stats.loc['Санкт-Петербург', ('rain_mm', 'sum')]
samara_rain = stats.loc['Самара', ('rain_mm', 'sum')]
moscow_wind = stats.loc['Москва', ('wind_speed_kmh', 'max')]

fig = go.Figure(data=[go.Table(
    header=dict(
        values=['Город', 'Ср. темп.', 'Макс. темп.', 'Мин. темп.', 'Влажность', 'Макс. ветер', 'Осадки'],
        fill_color='#3498db',
        font=dict(color='white', size=12),
    cells=dict(
        values=[stats.index] + [stats[col] for col in stats.columns],
        fill_color='lavender',
        align='center'))
])

fig.update_layout(
    title='<b>Сравнительная статистика по городам</b>',
    margin=dict(l=0, r=0, b=0)
)

fig.show()

## 🔍 Выводы
display(HTML(f'''
<div style="background-color:#f8f9fa; padding:15px; border-radius:5px; border-left:5px solid #3498db">
<h3 style="color:#3498db">Основные выводы</h3>
<ol>
<li><b>Температурный режим</b>:
   <ul>
   <li>Наиболее теплый город: Самара (средняя t° = {samara_avg_temp}°C)</li>
   <li>Наиболее холодный город: Санкт-Петербург (средняя t° = {spb_avg_temp}°C)</li>
   </ul>
</li>
<li><b>Осадки</b>:
   <ul>
   <li>Максимальные осадки: Санкт-Петербург ({spb_rain} мм)</li>
   <li>Минимальные осадки: Самара ({samara_rain} мм)</li>
   </ul>
</li>
<li><b>Ветровые условия</b>:
   <ul>
   <li>Самые сильные ветра: Москва (до {moscow_wind} км/ч)</li>
   <li>В Самаре наблюдались наиболее стабильные ветровые условия</li>
   </ul>
</li>
<li><b>Особенности</b>:
   <ul>
   <li>В Санкт-Петербурге зафиксированы снегопады, что необычно для мая</li>
   <li>Москва показала наибольшие перепады температуры в течение суток</li>
   <li>Самара имела наиболее стабильное атмосферное давление</li>
   </ul>
</li>
</ol>
</div>
'''))
