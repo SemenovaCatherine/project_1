# %% [markdown]
# # Анализ погодных данных
# ## Сравнение температуры, осадков и других параметров по городам

# %%
import pandas as pd
import matplotlib.pyplot as plt
import seaborn as sns
from datetime import datetime

# Настройки отображения
plt.style.use('seaborn')
sns.set_palette("husl")
pd.options.display.float_format = '{:.1f}'.format

# %% [markdown]
# ## 1. Загрузка данных

# %%
# Список городов и загрузка файлов
cities = {
    'Самара': 'weather_Самара_realtime.csv',
    'Санкт-Петербург': 'weather_Санкт-Петербург_realtime.csv', 
    'Москва': 'weather_Москва_realtime.csv'
}

dfs = {}
for city, file in cities.items():
    dfs[city] = pd.read_csv(file, parse_dates=['datetime'])
    print(f"Загружено {len(dfs[city])} записей для {city}")

# %% [markdown]
# ## 2. Предварительный анализ

# %%
# Общая статистика
for city, df in dfs.items():
    print(f"\nСтатистика для {city}:")
    display(df.describe())

# %% [markdown]
# ## 3. Визуализация данных

# %%
# Сравнение температур
plt.figure(figsize=(14, 7))
for city, df in dfs.items():
    sns.lineplot(x='datetime', y='temp_c', data=df, label=city)
plt.title('Сравнение температур по городам', fontsize=14)
plt.xlabel('Дата и время')
plt.ylabel('Температура (°C)')
plt.xticks(rotation=45)
plt.legend()
plt.tight_layout()
plt.show()

# %%
# Сравнение осадков
plt.figure(figsize=(14, 7))
for city, df in dfs.items():
    df['date'] = df['datetime'].dt.date
    daily_rain = df.groupby('date')['rain_mm'].sum().reset_index()
    sns.barplot(x='date', y='rain_mm', data=daily_rain, label=city)
plt.title('Суммарные осадки по дням', fontsize=14)
plt.xlabel('Дата')
plt.ylabel('Осадки (мм)')
plt.xticks(rotation=45)
plt.legend()
plt.show()

# %%
# Влажность и давление
fig, axes = plt.subplots(2, 1, figsize=(14, 10))

for city, df in dfs.items():
    sns.lineplot(ax=axes[0], x='datetime', y='humidity', data=df, label=city)
    sns.lineplot(ax=axes[1], x='datetime', y='pressure', data=df, label=city)

axes[0].set_title('Влажность по городам', fontsize=12)
axes[0].set_ylabel('Влажность (%)')
axes[1].set_title('Атмосферное давление', fontsize=12)
axes[1].set_ylabel('Давление (гПа)')

for ax in axes:
    ax.set_xlabel('Дата и время')
    ax.tick_params(axis='x', rotation=45)
    ax.legend()

plt.tight_layout()
plt.show()

# %% [markdown]
# ## 4. Дополнительный анализ

# %%
# Корреляция параметров
for city, df in dfs.items():
    print(f"\nКорреляция для {city}:")
    corr = df[['temp_c', 'humidity', 'pressure', 'wind_speed_kmh']].corr()
    display(corr.style.background_gradient(cmap='coolwarm'))

# %%
# Анализ экстремальных значений
for city, df in dfs.items():
    max_temp = df.loc[df['temp_c'].idxmax()]
    min_temp = df.loc[df['temp_c'].idxmin()]
    max_rain = df.loc[df['rain_mm'].idxmax()]
    
    print(f"\nЭкстремальные значения для {city}:")
    print(f"Максимальная температура: {max_temp['temp_c']}°C в {max_temp['datetime']}")
    print(f"Минимальная температура: {min_temp['temp_c']}°C в {min_temp['datetime']}")
    print(f"Максимальные осадки: {max_rain['rain_mm']} мм в {max_rain['datetime']}")

# %% [markdown]
# ## 5. Сохранение результатов

# %%
# Сохранение графиков
plt.savefig('temperature_comparison.png')
plt.savefig('precipitation_comparison.png')

# Сохранение обработанных данных
for city, df in dfs.items():
    df.to_csv(f'processed_{city}.csv', index=False)

print("Анализ завершен! Результаты сохранены.")
