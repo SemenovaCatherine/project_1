# Импорт необходимых модулей
import pandas as pd
from scripts.data_loader import fetch_weather_data
from scripts.data_processor import compute_statistics
from scripts.visualizer import plot_temperature, plot_rain
from scripts.config import CITIES

import os

# Загрузка данных
data_frames = []
for city in CITIES:
    try:
        df = fetch_weather_data(city)
        if not df.empty:
            data_frames.append(df)
        else:
            print(f"[!] Нет данных для {city}")
    except Exception as e:
        print(f"[Ошибка] При получении данных для {city}: {e}")

# Проверка на наличие данных
if not data_frames:
    raise ValueError("Нет данных ни для одного города. Завершаем выполнение.")

# Объединение данных
weather_df = pd.concat(data_frames, ignore_index=True)

# Создание необходимых директорий
os.makedirs('data/raw', exist_ok=True)
os.makedirs('data/processed', exist_ok=True)

# Сохранение сырых данных
weather_df.to_csv('data/raw/weather_data.csv', index=False)

# Вычисление статистики
stats = compute_statistics(weather_df)
print(stats)

# Сохранение обработанных данных
stats.to_csv('data/processed/weather_statistics.csv', index=False)

# Визуализация
plot_temperature(weather_df)
plot_rain(weather_df)
