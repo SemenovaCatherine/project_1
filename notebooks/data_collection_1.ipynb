# Импорт необходимых модулей
import pandas as pd
from scripts.data_loader import fetch_weather_data
from scripts.data_processor import compute_statistics
from scripts.visualizer import plot_temperature, plot_rain
from scripts.config import CITIES

# Загрузка данных
data_frames = []
for city in CITIES:
    df = fetch_weather_data(city)
    data_frames.append(df)

# Объединение данных
weather_df = pd.concat(data_frames, ignore_index=True)

# Сохранение сырых данных
weather_df.to_csv('data/raw/weather_data.csv', index=False)

# Вычисление статистики
stats = compute_statistics(weather_df)
print(stats)

# Сохранение обработанных данных
stats.to_csv('data/processed/weather_statistics.csv', index=False)

# Визуализация
plot_temperature(weather_df)
plot_rain(weather_df)
