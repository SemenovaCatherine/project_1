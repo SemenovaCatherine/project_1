# %% [markdown]
# # Сбор данных о погоде
# 
# В этом ноутбуке мы собираем данные с OpenWeatherMap API

# %%
from scripts.weather_api import get_weather_data, process_weather_data, save_weather_data
from config import Config
import pandas as pd

# %%
# Получаем данные для всех городов
weather_data = save_weather_data()

# %%
# Просмотр первых строк данных
pd.read_csv(Config.DATA_RAW_PATH).head()
