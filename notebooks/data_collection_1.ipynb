{
 "cells": [
  {
   "cell_type": "markdown",
   "metadata": {},
   "source": [
    "# Сбор данных о погоде\n",
    "\n",
    "В этом ноутбуке мы собираем данные с OpenWeatherMap API"
   ]
  },
  {
   "cell_type": "code",
   "execution_count": null,
   "metadata": {},
   "outputs": [],
   "source": [
    "# Импорт необходимых библиотек\n",
    "import os\n",
    "from dotenv import load_dotenv\n",
    "import pandas as pd\n",
    "from scripts.weather_api import get_weather_data, process_weather_data, save_weather_data\n",
    "from config import Config"
   ]
  },
  {
   "cell_type": "code",
   "execution_count": null,
   "metadata": {},
   "outputs": [],
   "source": [
    "# Проверка наличия API ключа\n",
    "load_dotenv()\n",
    "if not Config.API_KEY:\n",
    "    raise ValueError(\"API ключ не найден. Добавьте его в файл .env\")\n",
    "\n",
    "print(f\"Начинаем сбор данных для городов: {', '.join(Config.CITIES)}\")"
   ]
  },
  {
   "cell_type": "code",
   "execution_count": null,
   "metadata": {},
   "outputs": [],
   "source": [
    "try:\n",
    "    # Получаем данные для всех городов\n",
    "    weather_data = save_weather_data()\n",
    "    print(\"Данные успешно сохранены!\")\n",
    "except Exception as e:\n",
    "    print(f\"Ошибка при сборе данных: {e}\")"
   ]
  },
  {
   "cell_type": "code",
   "execution_count": null,
   "metadata": {},
   "outputs": [],
   "source": [
    "# Проверка собранных данных\n",
    "try:\n",
    "    df = pd.read_csv(Config.DATA_RAW_PATH)\n",
    "    print(f\"Успешно загружено {len(df)} записей\")\n",
    "    display(df.head())\n",
    "except FileNotFoundError:\n",
    "    print(\"Файл с данными не найден. Проверьте путь:\", Config.DATA_RAW_PATH)\n",
    "except Exception as e:\n",
    "    print(f\"Ошибка при загрузке данных: {e}\")"
   ]
  }
 ],
 "metadata": {
  "kernelspec": {
   "display_name": "Python 3",
   "language": "python",
   "name": "python3"
  }
 }
}
