# -*- coding: utf-8 -*-
"""
Created on %(date)s

@author: %(username)s
"""

# %% [markdown]
# # Полный анализ погодных данных
# ## Сравнение Москвы, Санкт-Петербурга и Самары

# %% [markdown]
# ## 1. Импорт библиотек и настройка

# %%
import pandas as pd
import matplotlib.pyplot as plt
import seaborn as sns
import os
from datetime import datetime

# Настройки графиков
plt.style.use('seaborn')
sns.set_palette("husl")
plt.rcParams['figure.figsize'] = (14, 7)
pd.options.display.float_format = '{:.1f}'.format

# %% [markdown]
# ## 2. Загрузка данных

# %%
# Создаем словарь с данными
data = {
    'Москва': pd.read_csv('weather_Москва_realtime.csv', parse_dates=['datetime']),
    'Санкт-Петербург': pd.read_csv('weather_Санкт-Петербург_realtime.csv', parse_dates=['datetime']),
    'Самара': pd.read_csv('weather_Самара_realtime.csv', parse_dates=['datetime'])
}

# Добавляем дополнительные временные характеристики
for city in data:
    df = data[city]
    df['date'] = df['datetime'].dt.date
    df['hour'] = df['datetime'].dt.hour
    df['day_of_week'] = df['datetime'].dt.day_name()

# %% [markdown]
# ## 3. Визуализация данных

# %%
# График температур
plt.figure(figsize=(16, 8))
for city, df in data.items():
    sns.lineplot(x='datetime', y='temp_c', data=df, label=city, linewidth=2)
plt.title('Сравнение температур по городам', fontsize=16)
plt.xlabel('Дата и время', fontsize=12)
plt.ylabel('Температура (°C)', fontsize=12)
plt.xticks(rotation=45)
plt.grid(True, alpha=0.3)
plt.legend(title='Город')
plt.tight_layout()
plt.show()

# %%
# График осадков
plt.figure(figsize=(16, 8))
for city, df in data.items():
    daily_rain = df.groupby('date')['rain_mm'].sum().reset_index()
    sns.barplot(x='date', y='rain_mm', data=daily_rain, label=city, alpha=0.7)
plt.title('Суммарные осадки по дням', fontsize=16)
plt.xlabel('Дата', fontsize=12)
plt.ylabel('Осадки (мм)', fontsize=12)
plt.xticks(rotation=45)
plt.legend(title='Город')
plt.grid(axis='y', alpha=0.3)
plt.tight_layout()
plt.show()

# %% [markdown]
# ## 4. Дополнительный анализ

# %%
# Тепловая карта корреляций для Москвы
plt.figure(figsize=(10, 8))
corr = data['Москва'][['temp_c', 'humidity', 'pressure', 'wind_speed_kmh']].corr()
sns.heatmap(corr, annot=True, cmap='coolwarm', center=0, fmt=".2f")
plt.title('Корреляция параметров (Москва)', fontsize=14)
plt.tight_layout()
plt.show()

# %%
# Анализ экстремальных значений
for city, df in data.items():
    print(f"\nАнализ для {city}:")
    print(f"Макс. температура: {df['temp_c'].max():.1f}°C")
    print(f"Мин. температура: {df['temp_c'].min():.1f}°C")
    print(f"Макс. осадки: {df['rain_mm'].max():.1f} мм")
    print(f"Макс. скорость ветра: {df['wind_speed_kmh'].max():.1f} км/ч")

# %% [markdown]
# ## 5. Сохранение результатов

# %%
# Создаем папку для результатов
os.makedirs('results', exist_ok=True)

# Сохраняем графики
plt.figure(figsize=(16, 8))
for city, df in data.items():
    sns.lineplot(x='datetime', y='temp_c', data=df, label=city, linewidth=2)
plt.title('Сравнение температур', fontsize=16)
plt.tight_layout()
plt.savefig('results/temperature_comparison.png', dpi=300)
plt.close()

print("Анализ завершен! Результаты сохранены в папке 'results'")
