{
  "cells": [
    {
      "cell_type": "markdown",
      "id": "00b3866f",
      "metadata": {
        "id": "00b3866f"
      },
      "source": [
        "# Объединённый ноутбук для сбора, анализа и визуализации погодных данных"
      ]
    },
    {
      "cell_type": "code",
      "execution_count": 2,
      "id": "3199dab1",
      "metadata": {
        "colab": {
          "base_uri": "https://localhost:8080/"
        },
        "id": "3199dab1",
        "outputId": "f7862950-1ef0-4aa9-8f27-9479f8cdd65d"
      },
      "outputs": [
        {
          "output_type": "stream",
          "name": "stdout",
          "text": [
            "Requirement already satisfied: wordcloud in /usr/local/lib/python3.11/dist-packages (1.9.4)\n",
            "Requirement already satisfied: plotly in /usr/local/lib/python3.11/dist-packages (5.24.1)\n",
            "Requirement already satisfied: seaborn in /usr/local/lib/python3.11/dist-packages (0.13.2)\n",
            "Requirement already satisfied: numpy>=1.6.1 in /usr/local/lib/python3.11/dist-packages (from wordcloud) (2.0.2)\n",
            "Requirement already satisfied: pillow in /usr/local/lib/python3.11/dist-packages (from wordcloud) (11.2.1)\n",
            "Requirement already satisfied: matplotlib in /usr/local/lib/python3.11/dist-packages (from wordcloud) (3.10.0)\n",
            "Requirement already satisfied: tenacity>=6.2.0 in /usr/local/lib/python3.11/dist-packages (from plotly) (9.1.2)\n",
            "Requirement already satisfied: packaging in /usr/local/lib/python3.11/dist-packages (from plotly) (24.2)\n",
            "Requirement already satisfied: pandas>=1.2 in /usr/local/lib/python3.11/dist-packages (from seaborn) (2.2.2)\n",
            "Requirement already satisfied: contourpy>=1.0.1 in /usr/local/lib/python3.11/dist-packages (from matplotlib->wordcloud) (1.3.2)\n",
            "Requirement already satisfied: cycler>=0.10 in /usr/local/lib/python3.11/dist-packages (from matplotlib->wordcloud) (0.12.1)\n",
            "Requirement already satisfied: fonttools>=4.22.0 in /usr/local/lib/python3.11/dist-packages (from matplotlib->wordcloud) (4.57.0)\n",
            "Requirement already satisfied: kiwisolver>=1.3.1 in /usr/local/lib/python3.11/dist-packages (from matplotlib->wordcloud) (1.4.8)\n",
            "Requirement already satisfied: pyparsing>=2.3.1 in /usr/local/lib/python3.11/dist-packages (from matplotlib->wordcloud) (3.2.3)\n",
            "Requirement already satisfied: python-dateutil>=2.7 in /usr/local/lib/python3.11/dist-packages (from matplotlib->wordcloud) (2.9.0.post0)\n",
            "Requirement already satisfied: pytz>=2020.1 in /usr/local/lib/python3.11/dist-packages (from pandas>=1.2->seaborn) (2025.2)\n",
            "Requirement already satisfied: tzdata>=2022.7 in /usr/local/lib/python3.11/dist-packages (from pandas>=1.2->seaborn) (2025.2)\n",
            "Requirement already satisfied: six>=1.5 in /usr/local/lib/python3.11/dist-packages (from python-dateutil>=2.7->matplotlib->wordcloud) (1.17.0)\n"
          ]
        }
      ],
      "source": [
        "!pip install wordcloud plotly seaborn"
      ]
    },
    {
      "cell_type": "code",
      "execution_count": 1,
      "id": "3c334373",
      "metadata": {
        "id": "3c334373"
      },
      "outputs": [],
      "source": [
        "import requests\n",
        "import pandas as pd\n",
        "import os\n",
        "from google.colab import files\n",
        "import matplotlib.pyplot as plt\n",
        "import seaborn as sns\n",
        "import plotly.express as px\n",
        "from wordcloud import WordCloud"
      ]
    },
    {
      "cell_type": "code",
      "execution_count": 3,
      "id": "0e50c1b6",
      "metadata": {
        "id": "0e50c1b6"
      },
      "outputs": [],
      "source": [
        "# Конфигурация\n",
        "API_KEY = 'e19341656f7539e9ac6553c950159dc4'\n",
        "CITIES = {\n",
        "    'Санкт-Петербург': {'lat': 59.93, 'lon': 30.31},\n",
        "    'Москва': {'lat': 55.75, 'lon': 37.62},\n",
        "    'Самара': {'lat': 53.20, 'lon': 50.15}\n",
        "}"
      ]
    },
    {
      "cell_type": "code",
      "execution_count": 5,
      "id": "f831d8dd",
      "metadata": {
        "colab": {
          "base_uri": "https://localhost:8080/",
          "height": 71
        },
        "id": "f831d8dd",
        "outputId": "ee84798b-57d6-4919-d2ae-534350ffcd86"
      },
      "outputs": [
        {
          "output_type": "stream",
          "name": "stdout",
          "text": [
            "Файл для Санкт-Петербург сохранён!\n"
          ]
        },
        {
          "output_type": "display_data",
          "data": {
            "text/plain": [
              "<IPython.core.display.Javascript object>"
            ],
            "application/javascript": [
              "\n",
              "    async function download(id, filename, size) {\n",
              "      if (!google.colab.kernel.accessAllowed) {\n",
              "        return;\n",
              "      }\n",
              "      const div = document.createElement('div');\n",
              "      const label = document.createElement('label');\n",
              "      label.textContent = `Downloading \"${filename}\": `;\n",
              "      div.appendChild(label);\n",
              "      const progress = document.createElement('progress');\n",
              "      progress.max = size;\n",
              "      div.appendChild(progress);\n",
              "      document.body.appendChild(div);\n",
              "\n",
              "      const buffers = [];\n",
              "      let downloaded = 0;\n",
              "\n",
              "      const channel = await google.colab.kernel.comms.open(id);\n",
              "      // Send a message to notify the kernel that we're ready.\n",
              "      channel.send({})\n",
              "\n",
              "      for await (const message of channel.messages) {\n",
              "        // Send a message to notify the kernel that we're ready.\n",
              "        channel.send({})\n",
              "        if (message.buffers) {\n",
              "          for (const buffer of message.buffers) {\n",
              "            buffers.push(buffer);\n",
              "            downloaded += buffer.byteLength;\n",
              "            progress.value = downloaded;\n",
              "          }\n",
              "        }\n",
              "      }\n",
              "      const blob = new Blob(buffers, {type: 'application/binary'});\n",
              "      const a = document.createElement('a');\n",
              "      a.href = window.URL.createObjectURL(blob);\n",
              "      a.download = filename;\n",
              "      div.appendChild(a);\n",
              "      a.click();\n",
              "      div.remove();\n",
              "    }\n",
              "  "
            ]
          },
          "metadata": {}
        },
        {
          "output_type": "display_data",
          "data": {
            "text/plain": [
              "<IPython.core.display.Javascript object>"
            ],
            "application/javascript": [
              "download(\"download_1c4c2802-5971-4909-9f62-bf8f117e9ce9\", \"weather_\\u0421\\u0430\\u043d\\u043a\\u0442-\\u041f\\u0435\\u0442\\u0435\\u0440\\u0431\\u0443\\u0440\\u0433_realtime.csv\", 2949)"
            ]
          },
          "metadata": {}
        },
        {
          "output_type": "stream",
          "name": "stdout",
          "text": [
            "Файл для Москва сохранён!\n"
          ]
        },
        {
          "output_type": "display_data",
          "data": {
            "text/plain": [
              "<IPython.core.display.Javascript object>"
            ],
            "application/javascript": [
              "\n",
              "    async function download(id, filename, size) {\n",
              "      if (!google.colab.kernel.accessAllowed) {\n",
              "        return;\n",
              "      }\n",
              "      const div = document.createElement('div');\n",
              "      const label = document.createElement('label');\n",
              "      label.textContent = `Downloading \"${filename}\": `;\n",
              "      div.appendChild(label);\n",
              "      const progress = document.createElement('progress');\n",
              "      progress.max = size;\n",
              "      div.appendChild(progress);\n",
              "      document.body.appendChild(div);\n",
              "\n",
              "      const buffers = [];\n",
              "      let downloaded = 0;\n",
              "\n",
              "      const channel = await google.colab.kernel.comms.open(id);\n",
              "      // Send a message to notify the kernel that we're ready.\n",
              "      channel.send({})\n",
              "\n",
              "      for await (const message of channel.messages) {\n",
              "        // Send a message to notify the kernel that we're ready.\n",
              "        channel.send({})\n",
              "        if (message.buffers) {\n",
              "          for (const buffer of message.buffers) {\n",
              "            buffers.push(buffer);\n",
              "            downloaded += buffer.byteLength;\n",
              "            progress.value = downloaded;\n",
              "          }\n",
              "        }\n",
              "      }\n",
              "      const blob = new Blob(buffers, {type: 'application/binary'});\n",
              "      const a = document.createElement('a');\n",
              "      a.href = window.URL.createObjectURL(blob);\n",
              "      a.download = filename;\n",
              "      div.appendChild(a);\n",
              "      a.click();\n",
              "      div.remove();\n",
              "    }\n",
              "  "
            ]
          },
          "metadata": {}
        },
        {
          "output_type": "display_data",
          "data": {
            "text/plain": [
              "<IPython.core.display.Javascript object>"
            ],
            "application/javascript": [
              "download(\"download_4a3cc941-4ed5-48b2-a309-6bd23e4ff04d\", \"weather_\\u041c\\u043e\\u0441\\u043a\\u0432\\u0430_realtime.csv\", 3040)"
            ]
          },
          "metadata": {}
        },
        {
          "output_type": "stream",
          "name": "stdout",
          "text": [
            "Файл для Самара сохранён!\n"
          ]
        },
        {
          "output_type": "display_data",
          "data": {
            "text/plain": [
              "<IPython.core.display.Javascript object>"
            ],
            "application/javascript": [
              "\n",
              "    async function download(id, filename, size) {\n",
              "      if (!google.colab.kernel.accessAllowed) {\n",
              "        return;\n",
              "      }\n",
              "      const div = document.createElement('div');\n",
              "      const label = document.createElement('label');\n",
              "      label.textContent = `Downloading \"${filename}\": `;\n",
              "      div.appendChild(label);\n",
              "      const progress = document.createElement('progress');\n",
              "      progress.max = size;\n",
              "      div.appendChild(progress);\n",
              "      document.body.appendChild(div);\n",
              "\n",
              "      const buffers = [];\n",
              "      let downloaded = 0;\n",
              "\n",
              "      const channel = await google.colab.kernel.comms.open(id);\n",
              "      // Send a message to notify the kernel that we're ready.\n",
              "      channel.send({})\n",
              "\n",
              "      for await (const message of channel.messages) {\n",
              "        // Send a message to notify the kernel that we're ready.\n",
              "        channel.send({})\n",
              "        if (message.buffers) {\n",
              "          for (const buffer of message.buffers) {\n",
              "            buffers.push(buffer);\n",
              "            downloaded += buffer.byteLength;\n",
              "            progress.value = downloaded;\n",
              "          }\n",
              "        }\n",
              "      }\n",
              "      const blob = new Blob(buffers, {type: 'application/binary'});\n",
              "      const a = document.createElement('a');\n",
              "      a.href = window.URL.createObjectURL(blob);\n",
              "      a.download = filename;\n",
              "      div.appendChild(a);\n",
              "      a.click();\n",
              "      div.remove();\n",
              "    }\n",
              "  "
            ]
          },
          "metadata": {}
        },
        {
          "output_type": "display_data",
          "data": {
            "text/plain": [
              "<IPython.core.display.Javascript object>"
            ],
            "application/javascript": [
              "download(\"download_5fe5f85d-379a-4b3e-b4f4-708f07426a6d\", \"weather_\\u0421\\u0430\\u043c\\u0430\\u0440\\u0430_realtime.csv\", 2921)"
            ]
          },
          "metadata": {}
        }
      ],
      "source": [
        "for city, coords in CITIES.items():\n",
        "    url = (\n",
        "        f\"https://api.openweathermap.org/data/2.5/forecast\"\n",
        "        f\"?lat={coords['lat']}&lon={coords['lon']}&appid={API_KEY}&units=metric&lang=ru\"\n",
        "    )\n",
        "\n",
        "    response = requests.get(url)\n",
        "    if response.status_code != 200:\n",
        "        print(f\"Ошибка при получении данных для {city}: {response.status_code}\")\n",
        "        continue\n",
        "\n",
        "    data = response.json()\n",
        "\n",
        "    df = pd.DataFrame([{\n",
        "        \"datetime\": pd.to_datetime(entry[\"dt\"], unit=\"s\"),\n",
        "        \"temp_c\": entry[\"main\"][\"temp\"],\n",
        "        \"feels_like_c\": entry[\"main\"][\"feels_like\"],\n",
        "        \"humidity\": entry[\"main\"][\"humidity\"],\n",
        "        \"pressure\": entry[\"main\"][\"pressure\"],\n",
        "        \"wind_speed_kmh\": round(entry[\"wind\"][\"speed\"] * 3.6, 1),\n",
        "        \"weather\": entry[\"weather\"][0][\"description\"],\n",
        "        \"rain_mm\": entry.get(\"rain\", {}).get(\"3h\", 0)\n",
        "    } for entry in data.get(\"list\", [])])\n",
        "\n",
        "    filename = f\"weather_{city}_realtime.csv\"\n",
        "    df.to_csv(filename, index=False)\n",
        "    print(f\"Файл для {city} сохранён!\")\n",
        "\n",
        "    files.download(filename)"
      ]
    },
    {
      "cell_type": "code",
      "execution_count": 6,
      "id": "ccb28360",
      "metadata": {
        "colab": {
          "base_uri": "https://localhost:8080/"
        },
        "id": "ccb28360",
        "outputId": "d99f6929-8a58-4735-af9f-7b1d9832fc95"
      },
      "outputs": [
        {
          "output_type": "stream",
          "name": "stdout",
          "text": [
            "              city  avg_temp  min_temp  max_temp  total_rain\n",
            "0           Москва  13.13575      8.54     19.28       17.27\n",
            "1           Самара  15.52375      9.88     21.54        7.61\n",
            "2  Санкт-Петербург  10.35300      5.27     15.82        3.38\n"
          ]
        }
      ],
      "source": [
        "# Вычисление статистики\n",
        "def compute_statistics(df):\n",
        "    if df.empty:\n",
        "        raise ValueError(\"DataFrame пуст. Проверьте загруженные данные.\")\n",
        "    stats = df.groupby('city').agg({\n",
        "        'temp_c': ['mean', 'min', 'max'],\n",
        "        'rain_mm': 'sum'\n",
        "    })\n",
        "    stats.columns = ['avg_temp', 'min_temp', 'max_temp', 'total_rain']\n",
        "    return stats.reset_index()\n",
        "\n",
        "stats = compute_statistics(df_all)\n",
        "print(stats)"
      ]
    },
    {
      "cell_type": "code",
      "execution_count": 8,
      "id": "d3972e12",
      "metadata": {
        "colab": {
          "base_uri": "https://localhost:8080/"
        },
        "id": "d3972e12",
        "outputId": "fd0c1dd6-f64b-43c7-d075-8f20ede1daae"
      },
      "outputs": [
        {
          "output_type": "stream",
          "name": "stdout",
          "text": [
            "Визуализации успешно сохранены в папку dashboard/figures/\n"
          ]
        }
      ],
      "source": [
        "# Генерация визуализаций\n",
        "os.makedirs('dashboard/figures', exist_ok=True)\n",
        "\n",
        "def plot_temperature_trend(df):\n",
        "    plt.figure(figsize=(14, 7))\n",
        "    sns.set_style(\"darkgrid\", {\"grid.color\": \".6\", \"grid.linestyle\": \":\"})\n",
        "    ax = sns.lineplot(\n",
        "        data=df,\n",
        "        x='datetime',\n",
        "        y='temp_c',\n",
        "        hue='city',\n",
        "        style='city',\n",
        "        markers=True\n",
        "    )\n",
        "    plt.title('Динамика температуры по городам', fontsize=16, pad=20)\n",
        "    plt.xlabel('Дата и время', fontsize=12)\n",
        "    plt.ylabel('Температура (°C)', fontsize=12)\n",
        "    plt.xticks(rotation=45)\n",
        "    plt.legend(title='Город', title_fontsize=12, fontsize=11, bbox_to_anchor=(1.05, 1), loc='upper left')\n",
        "    plt.tight_layout()\n",
        "    plt.savefig('dashboard/figures/temperature_trend.png', dpi=300, bbox_inches='tight')\n",
        "    plt.close()\n",
        "\n",
        "def plot_weather_wordcloud(df):\n",
        "    from collections import Counter\n",
        "    weather_text = ' '.join(df['weather'].dropna())\n",
        "    word_counts = Counter(weather_text.split())\n",
        "    wordcloud = WordCloud(\n",
        "        width=800,\n",
        "        height=400,\n",
        "        background_color='white',\n",
        "        colormap='viridis',\n",
        "        max_words=50\n",
        "    ).generate_from_frequencies(word_counts)\n",
        "    plt.figure(figsize=(12, 6))\n",
        "    plt.imshow(wordcloud, interpolation='bilinear')\n",
        "    plt.title('Частота погодных условий', fontsize=16, pad=20)\n",
        "    plt.axis('off')\n",
        "    plt.savefig('dashboard/figures/weather_wordcloud.png', dpi=300, bbox_inches='tight')\n",
        "    plt.close()\n",
        "\n",
        "def plot_interactive_temp_map(df):\n",
        "    avg_temp = df.groupby('city', as_index=False)['temp_c'].mean()\n",
        "    city_coords = {\n",
        "        'Москва': [55.7558, 37.6173],\n",
        "        'Санкт-Петербург': [59.9343, 30.3351],\n",
        "        'Самара': [53.1951, 50.1009]\n",
        "    }\n",
        "    avg_temp['lat'] = avg_temp['city'].map(lambda x: city_coords[x][0])\n",
        "    avg_temp['lon'] = avg_temp['city'].map(lambda x: city_coords[x][1])\n",
        "    fig = px.scatter_mapbox(\n",
        "        avg_temp,\n",
        "        lat='lat',\n",
        "        lon='lon',\n",
        "        size='temp_c',\n",
        "        color='temp_c',\n",
        "        hover_name='city',\n",
        "        hover_data={'temp_c': ':.1f'},\n",
        "        size_max=30,\n",
        "        zoom=3,\n",
        "        color_continuous_scale=px.colors.sequential.Tealgrn,\n",
        "        title='Средняя температура по городам'\n",
        "    )\n",
        "    fig.update_layout(\n",
        "        mapbox_style=\"open-street-map\",\n",
        "        margin={'r':0,'t':40,'l':0,'b':0},\n",
        "        title_x=0.5,\n",
        "        title_font_size=20\n",
        "    )\n",
        "    fig.write_html('dashboard/figures/interactive_temp_map.html')\n",
        "\n",
        "def generate_visualizations(df):\n",
        "    plot_temperature_trend(df)\n",
        "    plot_weather_wordcloud(df)\n",
        "    plot_interactive_temp_map(df)\n",
        "    print(\"Визуализации успешно сохранены в папку dashboard/figures/\")\n",
        "\n",
        "generate_visualizations(df_all)"
      ]
    }
  ],
  "metadata": {
    "colab": {
      "provenance": []
    },
    "language_info": {
      "name": "python"
    },
    "kernelspec": {
      "name": "python3",
      "display_name": "Python 3"
    }
  },
  "nbformat": 4,
  "nbformat_minor": 5
}