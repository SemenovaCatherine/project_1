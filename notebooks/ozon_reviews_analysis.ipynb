{
 "cells": [
  {
   "cell_type": "markdown",
   "id": "aac6021a",
   "metadata": {},
   "source": [
    "# Анализ отзывов с Ozon\n",
    "В этом ноутбуке проводится анализ отзывов на товары в двух категориях: Мужская и Женская одежда."
   ]
  },
  {
   "cell_type": "code",
   "execution_count": null,
   "id": "5370b508",
   "metadata": {},
   "outputs": [],
   "source": [
    "import pandas as pd\n",
    "import matplotlib.pyplot as plt\n",
    "import seaborn as sns\n",
    "from wordcloud import WordCloud\n",
    "import nltk\n",
    "import re\n",
    "from nltk.corpus import stopwords\n",
    "\n",
    "nltk.download(\"stopwords\")"
   ]
  },
  {
   "cell_type": "code",
   "execution_count": null,
   "id": "4780588a",
   "metadata": {},
   "outputs": [],
   "source": [
    "# Загрузка данных\n",
    "df = pd.read_csv(\"../data/ozon_reviews.csv\")\n",
    "df.head()"
   ]
  },
  {
   "cell_type": "code",
   "execution_count": null,
   "id": "d2a7294b",
   "metadata": {},
   "outputs": [],
   "source": [
    "# Проверка на пропущенные значения\n",
    "df.isnull().sum()"
   ]
  },
  {
   "cell_type": "code",
   "execution_count": null,
   "id": "c1066021",
   "metadata": {},
   "outputs": [],
   "source": [
    "# Очистка текста\n",
    "russian_stopwords = set(stopwords.words(\"russian\"))\n",
    "\n",
    "def clean_text(text):\n",
    "    text = str(text).lower()\n",
    "    text = re.sub(r'[^а-яё\\s]', '', text)\n",
    "    words = text.split()\n",
    "    words = [word for word in words if word not in russian_stopwords]\n",
    "    return \" \".join(words)\n",
    "\n",
    "df['clean_text'] = df['text'].apply(clean_text)\n",
    "df['text_len'] = df['clean_text'].apply(lambda x: len(x.split()))"
   ]
  },
  {
   "cell_type": "markdown",
   "id": "d8f58e76",
   "metadata": {},
   "source": [
    "## Описательная статистика"
   ]
  },
  {
   "cell_type": "code",
   "execution_count": null,
   "id": "5cf112b5",
   "metadata": {},
   "outputs": [],
   "source": [
    "df.describe()"
   ]
  },
  {
   "cell_type": "code",
   "execution_count": null,
   "id": "2c355249",
   "metadata": {},
   "outputs": [],
   "source": [
    "df.groupby(\"category\")[\"rating\"].mean()"
   ]
  },
  {
   "cell_type": "code",
   "execution_count": null,
   "id": "2a25551f",
   "metadata": {},
   "outputs": [],
   "source": [
    "df.groupby(\"category\")[\"text_len\"].mean()"
   ]
  },
  {
   "cell_type": "code",
   "execution_count": null,
   "id": "640d1db3",
   "metadata": {},
   "outputs": [],
   "source": [
    "df[\"category\"].value_counts()"
   ]
  },
  {
   "cell_type": "markdown",
   "id": "761f11bd",
   "metadata": {},
   "source": [
    "## Визуализация данных"
   ]
  },
  {
   "cell_type": "code",
   "execution_count": null,
   "id": "0b112031",
   "metadata": {},
   "outputs": [],
   "source": [
    "# Wordcloud для Женской одежды\n",
    "text_women = \" \".join(df[df['category'] == 'Women']['clean_text'])\n",
    "wordcloud_women = WordCloud(width=800, height=400, background_color='white').generate(text_women)\n",
    "\n",
    "plt.figure(figsize=(10,5))\n",
    "plt.imshow(wordcloud_women, interpolation='bilinear')\n",
    "plt.axis('off')\n",
    "plt.title('Женская одежда - Часто встречающиеся слова')\n",
    "plt.show()"
   ]
  },
  {
   "cell_type": "code",
   "execution_count": null,
   "id": "530a6c82",
   "metadata": {},
   "outputs": [],
   "source": [
    "# Wordcloud для Мужской одежды\n",
    "text_men = \" \".join(df[df['category'] == 'Men']['clean_text'])\n",
    "wordcloud_men = WordCloud(width=800, height=400, background_color='white').generate(text_men)\n",
    "\n",
    "plt.figure(figsize=(10,5))\n",
    "plt.imshow(wordcloud_men, interpolation='bilinear')\n",
    "plt.axis('off')\n",
    "plt.title('Мужская одежда - Часто встречающиеся слова')\n",
    "plt.show()"
   ]
  },
  {
   "cell_type": "code",
   "execution_count": null,
   "id": "f727ff14",
   "metadata": {},
   "outputs": [],
   "source": [
    "# Распределение оценок\n",
    "plt.figure(figsize=(8,6))\n",
    "sns.histplot(data=df, x='rating', hue='category', multiple='dodge', bins=5)\n",
    "plt.title('Распределение оценок по категориям')\n",
    "plt.xlabel('Оценка')\n",
    "plt.ylabel('Количество отзывов')\n",
    "plt.show()"
   ]
  },
  {
   "cell_type": "code",
   "execution_count": null,
   "id": "4dd8b74c",
   "metadata": {},
   "outputs": [],
   "source": [
    "# Длина отзывов\n",
    "plt.figure(figsize=(8,6))\n",
    "sns.boxplot(data=df, x='category', y='text_len')\n",
    "plt.title('Длина отзывов по категориям')\n",
    "plt.xlabel('Категория')\n",
    "plt.ylabel('Количество слов в отзыве')\n",
    "plt.show()"
   ]
  },
  {
   "cell_type": "markdown",
   "id": "7a92f130",
   "metadata": {},
   "source": [
    "## Выводы\n",
    "- Средняя оценка выше в категории X.\n",
    "- Отзывы в категории Y длиннее.\n",
    "- Женская/мужская категория чаще использует слова: ..."
   ]
  }
 ],
 "metadata": {
  "kernelspec": {
   "display_name": "Python 3",
   "name": "python3"
  }
 },
 "nbformat": 4,
 "nbformat_minor": 5
}
