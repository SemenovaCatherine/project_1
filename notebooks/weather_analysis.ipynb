{
 "cells": [
  {
   "cell_type": "code",
   "source": [
    "import pandas as pd\n",
    "from script.data import fetch_weather_data\n",
    "from script.visualization import plot_temperature, plot_rain\n",
    "from script.statistics import compute_statistics\n",
    "from script.config import CITIES\n",
    "\n",
    "# Сбор данных\n",
    "dfs = [fetch_weather_data(city) for city in CITIES]\n",
    "weather_df = pd.concat(dfs, ignore_index=True)\n",
    "\n",
    "# Сохранение сырых данных\n",
    "weather_df.to_csv(\"data/weather_data.csv\", index=False)\n",
    "\n",
    "# Визуализация\n",
    "plot_temperature(weather_df)\n",
    "plot_rain(weather_df)\n",
    "\n",
    "# Расчет статистики\n",
    "stats = compute_statistics(weather_df)\n",
    "print(stats)\n",
    "\n",
    "# Сохранение статистики\n",
    "stats.to_csv(\"data/weather_statistics.csv\", index=False)"
   ],
   "metadata": {},
   "execution_count": None,
   "outputs": []
  }
 ],
 "metadata": {
  "kernelspec": {
   "display_name": "Python 3",
   "language": "python",
   "name": "python3"
  },
  "language_info": {
   "name": "python",
   "version": ""
  }
 },
 "nbformat": 4,
 "nbformat_minor": 2
}