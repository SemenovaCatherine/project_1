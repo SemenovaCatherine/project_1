{
  "cells": [
    {
      "cell_type": "code",
      "source": [
        "import pandas as pd\n",
        "\n",
        "# Загрузка данных из файлов\n",
        "samara = pd.read_csv(\"/weather_Самара_realtime.csv\")\n",
        "moscow = pd.read_csv(\"/weather_Москва_realtime.csv\")\n",
        "spb = pd.read_csv(\"/weather_Санкт-Петербург_realtime.csv\")\n",
        "# Добавим столбец с названием города в каждый датафрейм\n",
        "moscow[\"city\"] = \"Москва\"\n",
        "spb[\"city\"] = \"Санкт-Петербург\"\n",
        "samara[\"city\"] = \"Самара\"\n",
        "\n",
        "# Объединим все в один датафрейм\n",
        "weather = pd.concat([moscow, spb, samara], ignore_index=True)\n",
        "\n",
        "# Проверим структуру итогового датафрейма\n",
        "weather.head()"
      ],
      "metadata": {
        "colab": {
          "base_uri": "https://localhost:8080/",
          "height": 400
        },
        "id": "X__IQdnWadT2",
        "outputId": "71aae556-b075-4227-874a-c9b1389ae40f"
      },
      "execution_count": 25,
      "outputs": [
        {
          "output_type": "execute_result",
          "data": {
            "text/plain": [
              "              datetime  temp_c  feels_like_c  humidity  pressure  \\\n",
              "0  2025-05-03 21:00:00   11.32         10.41        73      1002   \n",
              "1  2025-05-04 00:00:00   10.22          9.33        78      1002   \n",
              "2  2025-05-04 03:00:00    8.63          7.65        87      1003   \n",
              "3  2025-05-04 06:00:00   16.41         15.78        64      1003   \n",
              "4  2025-05-04 09:00:00   19.05         18.11        42      1002   \n",
              "\n",
              "   wind_speed_kmh                 weather  rain_mm    city  \n",
              "0             7.2  облачно с прояснениями      0.0  Москва  \n",
              "1             6.9  облачно с прояснениями      0.0  Москва  \n",
              "2             7.0  облачно с прояснениями      0.0  Москва  \n",
              "3             8.5   переменная облачность      0.0  Москва  \n",
              "4            14.1                пасмурно      0.0  Москва  "
            ],
            "text/html": [
              "\n",
              "  <div id=\"df-13f3dc5b-ad93-4ff8-b73a-296b85819829\" class=\"colab-df-container\">\n",
              "    <div>\n",
              "<style scoped>\n",
              "    .dataframe tbody tr th:only-of-type {\n",
              "        vertical-align: middle;\n",
              "    }\n",
              "\n",
              "    .dataframe tbody tr th {\n",
              "        vertical-align: top;\n",
              "    }\n",
              "\n",
              "    .dataframe thead th {\n",
              "        text-align: right;\n",
              "    }\n",
              "</style>\n",
              "<table border=\"1\" class=\"dataframe\">\n",
              "  <thead>\n",
              "    <tr style=\"text-align: right;\">\n",
              "      <th></th>\n",
              "      <th>datetime</th>\n",
              "      <th>temp_c</th>\n",
              "      <th>feels_like_c</th>\n",
              "      <th>humidity</th>\n",
              "      <th>pressure</th>\n",
              "      <th>wind_speed_kmh</th>\n",
              "      <th>weather</th>\n",
              "      <th>rain_mm</th>\n",
              "      <th>city</th>\n",
              "    </tr>\n",
              "  </thead>\n",
              "  <tbody>\n",
              "    <tr>\n",
              "      <th>0</th>\n",
              "      <td>2025-05-03 21:00:00</td>\n",
              "      <td>11.32</td>\n",
              "      <td>10.41</td>\n",
              "      <td>73</td>\n",
              "      <td>1002</td>\n",
              "      <td>7.2</td>\n",
              "      <td>облачно с прояснениями</td>\n",
              "      <td>0.0</td>\n",
              "      <td>Москва</td>\n",
              "    </tr>\n",
              "    <tr>\n",
              "      <th>1</th>\n",
              "      <td>2025-05-04 00:00:00</td>\n",
              "      <td>10.22</td>\n",
              "      <td>9.33</td>\n",
              "      <td>78</td>\n",
              "      <td>1002</td>\n",
              "      <td>6.9</td>\n",
              "      <td>облачно с прояснениями</td>\n",
              "      <td>0.0</td>\n",
              "      <td>Москва</td>\n",
              "    </tr>\n",
              "    <tr>\n",
              "      <th>2</th>\n",
              "      <td>2025-05-04 03:00:00</td>\n",
              "      <td>8.63</td>\n",
              "      <td>7.65</td>\n",
              "      <td>87</td>\n",
              "      <td>1003</td>\n",
              "      <td>7.0</td>\n",
              "      <td>облачно с прояснениями</td>\n",
              "      <td>0.0</td>\n",
              "      <td>Москва</td>\n",
              "    </tr>\n",
              "    <tr>\n",
              "      <th>3</th>\n",
              "      <td>2025-05-04 06:00:00</td>\n",
              "      <td>16.41</td>\n",
              "      <td>15.78</td>\n",
              "      <td>64</td>\n",
              "      <td>1003</td>\n",
              "      <td>8.5</td>\n",
              "      <td>переменная облачность</td>\n",
              "      <td>0.0</td>\n",
              "      <td>Москва</td>\n",
              "    </tr>\n",
              "    <tr>\n",
              "      <th>4</th>\n",
              "      <td>2025-05-04 09:00:00</td>\n",
              "      <td>19.05</td>\n",
              "      <td>18.11</td>\n",
              "      <td>42</td>\n",
              "      <td>1002</td>\n",
              "      <td>14.1</td>\n",
              "      <td>пасмурно</td>\n",
              "      <td>0.0</td>\n",
              "      <td>Москва</td>\n",
              "    </tr>\n",
              "  </tbody>\n",
              "</table>\n",
              "</div>\n",
              "    <div class=\"colab-df-buttons\">\n",
              "\n",
              "  <div class=\"colab-df-container\">\n",
              "    <button class=\"colab-df-convert\" onclick=\"convertToInteractive('df-13f3dc5b-ad93-4ff8-b73a-296b85819829')\"\n",
              "            title=\"Convert this dataframe to an interactive table.\"\n",
              "            style=\"display:none;\">\n",
              "\n",
              "  <svg xmlns=\"http://www.w3.org/2000/svg\" height=\"24px\" viewBox=\"0 -960 960 960\">\n",
              "    <path d=\"M120-120v-720h720v720H120Zm60-500h600v-160H180v160Zm220 220h160v-160H400v160Zm0 220h160v-160H400v160ZM180-400h160v-160H180v160Zm440 0h160v-160H620v160ZM180-180h160v-160H180v160Zm440 0h160v-160H620v160Z\"/>\n",
              "  </svg>\n",
              "    </button>\n",
              "\n",
              "  <style>\n",
              "    .colab-df-container {\n",
              "      display:flex;\n",
              "      gap: 12px;\n",
              "    }\n",
              "\n",
              "    .colab-df-convert {\n",
              "      background-color: #E8F0FE;\n",
              "      border: none;\n",
              "      border-radius: 50%;\n",
              "      cursor: pointer;\n",
              "      display: none;\n",
              "      fill: #1967D2;\n",
              "      height: 32px;\n",
              "      padding: 0 0 0 0;\n",
              "      width: 32px;\n",
              "    }\n",
              "\n",
              "    .colab-df-convert:hover {\n",
              "      background-color: #E2EBFA;\n",
              "      box-shadow: 0px 1px 2px rgba(60, 64, 67, 0.3), 0px 1px 3px 1px rgba(60, 64, 67, 0.15);\n",
              "      fill: #174EA6;\n",
              "    }\n",
              "\n",
              "    .colab-df-buttons div {\n",
              "      margin-bottom: 4px;\n",
              "    }\n",
              "\n",
              "    [theme=dark] .colab-df-convert {\n",
              "      background-color: #3B4455;\n",
              "      fill: #D2E3FC;\n",
              "    }\n",
              "\n",
              "    [theme=dark] .colab-df-convert:hover {\n",
              "      background-color: #434B5C;\n",
              "      box-shadow: 0px 1px 3px 1px rgba(0, 0, 0, 0.15);\n",
              "      filter: drop-shadow(0px 1px 2px rgba(0, 0, 0, 0.3));\n",
              "      fill: #FFFFFF;\n",
              "    }\n",
              "  </style>\n",
              "\n",
              "    <script>\n",
              "      const buttonEl =\n",
              "        document.querySelector('#df-13f3dc5b-ad93-4ff8-b73a-296b85819829 button.colab-df-convert');\n",
              "      buttonEl.style.display =\n",
              "        google.colab.kernel.accessAllowed ? 'block' : 'none';\n",
              "\n",
              "      async function convertToInteractive(key) {\n",
              "        const element = document.querySelector('#df-13f3dc5b-ad93-4ff8-b73a-296b85819829');\n",
              "        const dataTable =\n",
              "          await google.colab.kernel.invokeFunction('convertToInteractive',\n",
              "                                                    [key], {});\n",
              "        if (!dataTable) return;\n",
              "\n",
              "        const docLinkHtml = 'Like what you see? Visit the ' +\n",
              "          '<a target=\"_blank\" href=https://colab.research.google.com/notebooks/data_table.ipynb>data table notebook</a>'\n",
              "          + ' to learn more about interactive tables.';\n",
              "        element.innerHTML = '';\n",
              "        dataTable['output_type'] = 'display_data';\n",
              "        await google.colab.output.renderOutput(dataTable, element);\n",
              "        const docLink = document.createElement('div');\n",
              "        docLink.innerHTML = docLinkHtml;\n",
              "        element.appendChild(docLink);\n",
              "      }\n",
              "    </script>\n",
              "  </div>\n",
              "\n",
              "\n",
              "    <div id=\"df-e46c828a-505e-4db4-bce7-1d5b6c2457d3\">\n",
              "      <button class=\"colab-df-quickchart\" onclick=\"quickchart('df-e46c828a-505e-4db4-bce7-1d5b6c2457d3')\"\n",
              "                title=\"Suggest charts\"\n",
              "                style=\"display:none;\">\n",
              "\n",
              "<svg xmlns=\"http://www.w3.org/2000/svg\" height=\"24px\"viewBox=\"0 0 24 24\"\n",
              "     width=\"24px\">\n",
              "    <g>\n",
              "        <path d=\"M19 3H5c-1.1 0-2 .9-2 2v14c0 1.1.9 2 2 2h14c1.1 0 2-.9 2-2V5c0-1.1-.9-2-2-2zM9 17H7v-7h2v7zm4 0h-2V7h2v10zm4 0h-2v-4h2v4z\"/>\n",
              "    </g>\n",
              "</svg>\n",
              "      </button>\n",
              "\n",
              "<style>\n",
              "  .colab-df-quickchart {\n",
              "      --bg-color: #E8F0FE;\n",
              "      --fill-color: #1967D2;\n",
              "      --hover-bg-color: #E2EBFA;\n",
              "      --hover-fill-color: #174EA6;\n",
              "      --disabled-fill-color: #AAA;\n",
              "      --disabled-bg-color: #DDD;\n",
              "  }\n",
              "\n",
              "  [theme=dark] .colab-df-quickchart {\n",
              "      --bg-color: #3B4455;\n",
              "      --fill-color: #D2E3FC;\n",
              "      --hover-bg-color: #434B5C;\n",
              "      --hover-fill-color: #FFFFFF;\n",
              "      --disabled-bg-color: #3B4455;\n",
              "      --disabled-fill-color: #666;\n",
              "  }\n",
              "\n",
              "  .colab-df-quickchart {\n",
              "    background-color: var(--bg-color);\n",
              "    border: none;\n",
              "    border-radius: 50%;\n",
              "    cursor: pointer;\n",
              "    display: none;\n",
              "    fill: var(--fill-color);\n",
              "    height: 32px;\n",
              "    padding: 0;\n",
              "    width: 32px;\n",
              "  }\n",
              "\n",
              "  .colab-df-quickchart:hover {\n",
              "    background-color: var(--hover-bg-color);\n",
              "    box-shadow: 0 1px 2px rgba(60, 64, 67, 0.3), 0 1px 3px 1px rgba(60, 64, 67, 0.15);\n",
              "    fill: var(--button-hover-fill-color);\n",
              "  }\n",
              "\n",
              "  .colab-df-quickchart-complete:disabled,\n",
              "  .colab-df-quickchart-complete:disabled:hover {\n",
              "    background-color: var(--disabled-bg-color);\n",
              "    fill: var(--disabled-fill-color);\n",
              "    box-shadow: none;\n",
              "  }\n",
              "\n",
              "  .colab-df-spinner {\n",
              "    border: 2px solid var(--fill-color);\n",
              "    border-color: transparent;\n",
              "    border-bottom-color: var(--fill-color);\n",
              "    animation:\n",
              "      spin 1s steps(1) infinite;\n",
              "  }\n",
              "\n",
              "  @keyframes spin {\n",
              "    0% {\n",
              "      border-color: transparent;\n",
              "      border-bottom-color: var(--fill-color);\n",
              "      border-left-color: var(--fill-color);\n",
              "    }\n",
              "    20% {\n",
              "      border-color: transparent;\n",
              "      border-left-color: var(--fill-color);\n",
              "      border-top-color: var(--fill-color);\n",
              "    }\n",
              "    30% {\n",
              "      border-color: transparent;\n",
              "      border-left-color: var(--fill-color);\n",
              "      border-top-color: var(--fill-color);\n",
              "      border-right-color: var(--fill-color);\n",
              "    }\n",
              "    40% {\n",
              "      border-color: transparent;\n",
              "      border-right-color: var(--fill-color);\n",
              "      border-top-color: var(--fill-color);\n",
              "    }\n",
              "    60% {\n",
              "      border-color: transparent;\n",
              "      border-right-color: var(--fill-color);\n",
              "    }\n",
              "    80% {\n",
              "      border-color: transparent;\n",
              "      border-right-color: var(--fill-color);\n",
              "      border-bottom-color: var(--fill-color);\n",
              "    }\n",
              "    90% {\n",
              "      border-color: transparent;\n",
              "      border-bottom-color: var(--fill-color);\n",
              "    }\n",
              "  }\n",
              "</style>\n",
              "\n",
              "      <script>\n",
              "        async function quickchart(key) {\n",
              "          const quickchartButtonEl =\n",
              "            document.querySelector('#' + key + ' button');\n",
              "          quickchartButtonEl.disabled = true;  // To prevent multiple clicks.\n",
              "          quickchartButtonEl.classList.add('colab-df-spinner');\n",
              "          try {\n",
              "            const charts = await google.colab.kernel.invokeFunction(\n",
              "                'suggestCharts', [key], {});\n",
              "          } catch (error) {\n",
              "            console.error('Error during call to suggestCharts:', error);\n",
              "          }\n",
              "          quickchartButtonEl.classList.remove('colab-df-spinner');\n",
              "          quickchartButtonEl.classList.add('colab-df-quickchart-complete');\n",
              "        }\n",
              "        (() => {\n",
              "          let quickchartButtonEl =\n",
              "            document.querySelector('#df-e46c828a-505e-4db4-bce7-1d5b6c2457d3 button');\n",
              "          quickchartButtonEl.style.display =\n",
              "            google.colab.kernel.accessAllowed ? 'block' : 'none';\n",
              "        })();\n",
              "      </script>\n",
              "    </div>\n",
              "    </div>\n",
              "  </div>\n"
            ],
            "application/vnd.google.colaboratory.intrinsic+json": {
              "type": "dataframe",
              "variable_name": "weather",
              "summary": "{\n  \"name\": \"weather\",\n  \"rows\": 120,\n  \"fields\": [\n    {\n      \"column\": \"datetime\",\n      \"properties\": {\n        \"dtype\": \"object\",\n        \"num_unique_values\": 40,\n        \"samples\": [\n          \"2025-05-06 06:00:00\",\n          \"2025-05-05 21:00:00\",\n          \"2025-05-05 18:00:00\"\n        ],\n        \"semantic_type\": \"\",\n        \"description\": \"\"\n      }\n    },\n    {\n      \"column\": \"temp_c\",\n      \"properties\": {\n        \"dtype\": \"number\",\n        \"std\": 5.665331989179367,\n        \"min\": -0.46,\n        \"max\": 23.08,\n        \"num_unique_values\": 116,\n        \"samples\": [\n          16.8,\n          19.05,\n          7.87\n        ],\n        \"semantic_type\": \"\",\n        \"description\": \"\"\n      }\n    },\n    {\n      \"column\": \"feels_like_c\",\n      \"properties\": {\n        \"dtype\": \"number\",\n        \"std\": 6.63766040757393,\n        \"min\": -3.86,\n        \"max\": 22.23,\n        \"num_unique_values\": 114,\n        \"samples\": [\n          15.66,\n          18.11,\n          3.4\n        ],\n        \"semantic_type\": \"\",\n        \"description\": \"\"\n      }\n    },\n    {\n      \"column\": \"humidity\",\n      \"properties\": {\n        \"dtype\": \"number\",\n        \"std\": 18,\n        \"min\": 28,\n        \"max\": 100,\n        \"num_unique_values\": 61,\n        \"samples\": [\n          73,\n          41,\n          86\n        ],\n        \"semantic_type\": \"\",\n        \"description\": \"\"\n      }\n    },\n    {\n      \"column\": \"pressure\",\n      \"properties\": {\n        \"dtype\": \"number\",\n        \"std\": 5,\n        \"min\": 995,\n        \"max\": 1015,\n        \"num_unique_values\": 20,\n        \"samples\": [\n          1002,\n          998,\n          1008\n        ],\n        \"semantic_type\": \"\",\n        \"description\": \"\"\n      }\n    },\n    {\n      \"column\": \"wind_speed_kmh\",\n      \"properties\": {\n        \"dtype\": \"number\",\n        \"std\": 5.531732687559173,\n        \"min\": 2.5,\n        \"max\": 31.4,\n        \"num_unique_values\": 92,\n        \"samples\": [\n          17.9,\n          12.5,\n          10.0\n        ],\n        \"semantic_type\": \"\",\n        \"description\": \"\"\n      }\n    },\n    {\n      \"column\": \"weather\",\n      \"properties\": {\n        \"dtype\": \"category\",\n        \"num_unique_values\": 9,\n        \"samples\": [\n          \"\\u043d\\u0435\\u0431\\u043e\\u043b\\u044c\\u0448\\u043e\\u0439 \\u0441\\u043d\\u0435\\u0433\",\n          \"\\u043f\\u0435\\u0440\\u0435\\u043c\\u0435\\u043d\\u043d\\u0430\\u044f \\u043e\\u0431\\u043b\\u0430\\u0447\\u043d\\u043e\\u0441\\u0442\\u044c\",\n          \"\\u043d\\u0435\\u0431\\u043e\\u043b\\u044c\\u0448\\u0430\\u044f \\u043e\\u0431\\u043b\\u0430\\u0447\\u043d\\u043e\\u0441\\u0442\\u044c\"\n        ],\n        \"semantic_type\": \"\",\n        \"description\": \"\"\n      }\n    },\n    {\n      \"column\": \"rain_mm\",\n      \"properties\": {\n        \"dtype\": \"number\",\n        \"std\": 0.7120742572928475,\n        \"min\": 0.0,\n        \"max\": 6.72,\n        \"num_unique_values\": 19,\n        \"samples\": [\n          0.0,\n          0.1,\n          6.72\n        ],\n        \"semantic_type\": \"\",\n        \"description\": \"\"\n      }\n    },\n    {\n      \"column\": \"city\",\n      \"properties\": {\n        \"dtype\": \"category\",\n        \"num_unique_values\": 3,\n        \"samples\": [\n          \"\\u041c\\u043e\\u0441\\u043a\\u0432\\u0430\",\n          \"\\u0421\\u0430\\u043d\\u043a\\u0442-\\u041f\\u0435\\u0442\\u0435\\u0440\\u0431\\u0443\\u0440\\u0433\",\n          \"\\u0421\\u0430\\u043c\\u0430\\u0440\\u0430\"\n        ],\n        \"semantic_type\": \"\",\n        \"description\": \"\"\n      }\n    }\n  ]\n}"
            }
          },
          "metadata": {},
          "execution_count": 25
        }
      ]
    },
    {
      "source": [
        "# @title temp_c vs feels_like_c\n",
        "\n",
        "from matplotlib import pyplot as plt\n",
        "weather.plot(kind='scatter', x='temp_c', y='feels_like_c', s=32, alpha=.8)\n",
        "plt.gca().spines[['top', 'right',]].set_visible(False)"
      ],
      "cell_type": "code",
      "execution_count": 13,
      "outputs": [
        {
          "output_type": "display_data",
          "data": {
            "text/plain": [
              "<Figure size 640x480 with 1 Axes>"
            ],
            "image/png": "[encoded data removed]"
          },
          "metadata": {}
        }
      ],
      "metadata": {
        "cellView": "form",
        "colab": {
          "base_uri": "https://localhost:8080/",
          "height": 449
        },
        "id": "aE5Dt1QtfFNP",
        "outputId": "68eea168-50f8-4c47-d0de-2f523c56b2d9"
      }
    },
    {
      "cell_type": "markdown",
      "metadata": {
        "id": "epGICBPVaXyP"
      },
      "source": [
        "# 🌦 Анализ погоды в Москве, Санкт-Петербурге и Самаре\n",
        "### Автоматизированная система сравнения метеопараметров"
      ]
    },
    {
      "cell_type": "code",
      "execution_count": 20,
      "metadata": {
        "colab": {
          "base_uri": "https://localhost:8080/"
        },
        "id": "AzimIeVfaXyQ",
        "outputId": "a5f86a6c-d541-4f64-ccfc-9f6e2490c6bd"
      },
      "outputs": [
        {
          "output_type": "stream",
          "name": "stdout",
          "text": [
            "Примеры исходных дат:\n",
            "city\n",
            "Москва            2025-05-03 21:00:00\n",
            "Самара            2025-05-03 21:00:00\n",
            "Санкт-Петербург   2025-05-03 21:00:00\n",
            "Name: datetime, dtype: datetime64[ns]\n"
          ]
        }
      ],
      "source": [
        "# Установка библиотек (если нужно)\n",
        "!pip install plotly pandas --quiet\n",
        "\n",
        "# Импорт библиотек\n",
        "import pandas as pd\n",
        "import plotly.express as px\n",
        "import plotly.graph_objects as go\n",
        "from plotly.subplots import make_subplots\n",
        "from IPython.display import display, HTML\n",
        "\n",
        "# Загрузка ваших файлов без изменений\n",
        "moscow = pd.read_csv('weather_Москва_realtime.csv')\n",
        "samara = pd.read_csv('weather_Самара_realtime.csv')\n",
        "spb = pd.read_csv('weather_Санкт-Петербург_realtime.csv')\n",
        "\n",
        "# Добавляем колонку с городом (без изменения исходных данных)\n",
        "moscow['city'] = 'Москва'\n",
        "samara['city'] = 'Самара'\n",
        "spb['city'] = 'Санкт-Петербург'\n",
        "\n",
        "# Объединяем данные (сохраняем все оригинальные значения)\n",
        "weather = pd.concat([moscow, samara, spb], ignore_index=True)\n",
        "\n",
        "# Конвертируем даты в исходном формате (как в ваших файлах)\n",
        "weather['datetime'] = pd.to_datetime(weather['datetime'])\n",
        "\n",
        "# Проверка - показываем первые даты из каждого города\n",
        "print(\"Примеры исходных дат:\")\n",
        "print(weather.groupby('city')['datetime'].first())"
      ]
    },
    {
      "cell_type": "markdown",
      "metadata": {
        "id": "M63BY2hJaXyR"
      },
      "source": [
        "## 📈 Основные метеопараметры"
      ]
    },
    {
      "cell_type": "code",
      "execution_count": 21,
      "metadata": {
        "colab": {
          "base_uri": "https://localhost:8080/",
          "height": 817
        },
        "id": "AZzQREwaaXyR",
        "outputId": "2a8fb9d9-e82a-41e5-9f2a-4a95614f61a5"
      },
      "outputs": [
        {
          "output_type": "display_data",
          "data": {
            "text/html": [
              "<html>\n",
              "<head><meta charset=\"utf-8\" /></head>\n",
              "<body>\n",
              "    <div>            <script src=\"https://cdnjs.cloudflare.com/ajax/libs/mathjax/2.7.5/MathJax.js?config=TeX-AMS-MML_SVG\"></script><script type=\"text/javascript\">if (window.MathJax && window.MathJax.Hub && window.MathJax.Hub.Config) {window.MathJax.Hub.Config({SVG: {font: \"STIX-Web\"}});}</script>                <script type=\"text/javascript\">window.PlotlyConfig = {MathJaxConfig: 'local'};</script>\n",
              "        <script charset=\"utf-8\" src=\"https://cdn.plot.ly/plotly-2.35.2.min.js\"></script>                <div id=\"404297f9-6048-4376-85e9-83a4e4d76a38\" class=\"plotly-graph-div\" style=\"height:800px; width:100%;\"></div>            <script type=\"text/javascript\">                                    window.PLOTLYENV=window.PLOTLYENV || {};                                    if (document.getElementById(\"404297f9-6048-4376-85e9-83a4e4d76a38\")) {                    Plotly.newPlot(                        \"404297f9-6048-4376-85e9-83a4e4d76a38\",                        [{\"name\":\"Москва - Температура\",\"x\":[\"2025-05-03T21:00:00\",\"2025-05-04T00:00:00\",\"2025-05-04T03:00:00\",\"2025-05-04T06:00:00\",\"2025-05-04T09:00:00\",\"2025-05-04T12:00:00\",\"2025-05-04T15:00:00\",\"2025-05-04T18:00:00\",\"2025-05-04T21:00:00\",\"2025-05-05T00:00:00\",\"2025-05-05T03:00:00\",\"2025-05-05T06:00:00\",\"2025-05-05T09:00:00\",\"2025-05-05T12:00:00\",\"2025-05-05T15:00:00\",\"2025-05-05T18:00:00\",\"2025-05-05T21:00:00\",\"2025-05-06T00:00:00\",\"2025-05-06T03:00:00\",\"2025-05-06T06:00:00\",\"2025-05-06T09:00:00\",\"2025-05-06T12:00:00\",\"2025-05-06T15:00:00\",\"2025-05-06T18:00:00\",\"2025-05-06T21:00:00\",\"2025-05-07T00:00:00\",\"2025-05-07T03:00:00\",\"2025-05-07T06:00:00\",\"2025-05-07T09:00:00\",\"2025-05-07T12:00:00\",\"2025-05-07T15:00:00\",\"2025-05-07T18:00:00\",\"2025-05-07T21:00:00\",\"2025-05-08T00:00:00\",\"2025-05-08T03:00:00\",\"2025-05-08T06:00:00\",\"2025-05-08T09:00:00\",\"2025-05-08T12:00:00\",\"2025-05-08T15:00:00\",\"2025-05-08T18:00:00\"],\"y\":[11.32,10.22,8.63,16.41,19.05,20.11,12.44,14.49,14.43,12.3,9.92,10.71,13.44,11.15,7.36,5.74,3.99,2.6,2.79,6.94,10.19,12.36,12.07,9.54,7.76,6.0,5.83,9.21,11.21,11.94,10.55,7.44,5.23,3.77,3.04,6.0,8.47,10.3,9.59,7.19],\"type\":\"scatter\",\"xaxis\":\"x\",\"yaxis\":\"y\"},{\"name\":\"Москва - Влажность\",\"x\":[\"2025-05-03T21:00:00\",\"2025-05-04T00:00:00\",\"2025-05-04T03:00:00\",\"2025-05-04T06:00:00\",\"2025-05-04T09:00:00\",\"2025-05-04T12:00:00\",\"2025-05-04T15:00:00\",\"2025-05-04T18:00:00\",\"2025-05-04T21:00:00\",\"2025-05-05T00:00:00\",\"2025-05-05T03:00:00\",\"2025-05-05T06:00:00\",\"2025-05-05T09:00:00\",\"2025-05-05T12:00:00\",\"2025-05-05T15:00:00\",\"2025-05-05T18:00:00\",\"2025-05-05T21:00:00\",\"2025-05-06T00:00:00\",\"2025-05-06T03:00:00\",\"2025-05-06T06:00:00\",\"2025-05-06T09:00:00\",\"2025-05-06T12:00:00\",\"2025-05-06T15:00:00\",\"2025-05-06T18:00:00\",\"2025-05-06T21:00:00\",\"2025-05-07T00:00:00\",\"2025-05-07T03:00:00\",\"2025-05-07T06:00:00\",\"2025-05-07T09:00:00\",\"2025-05-07T12:00:00\",\"2025-05-07T15:00:00\",\"2025-05-07T18:00:00\",\"2025-05-07T21:00:00\",\"2025-05-08T00:00:00\",\"2025-05-08T03:00:00\",\"2025-05-08T06:00:00\",\"2025-05-08T09:00:00\",\"2025-05-08T12:00:00\",\"2025-05-08T15:00:00\",\"2025-05-08T18:00:00\"],\"y\":[73,78,87,64,42,41,73,90,90,83,78,75,41,52,60,62,57,61,59,43,33,30,34,45,56,64,67,54,49,51,62,75,69,77,76,54,37,30,36,46],\"type\":\"scatter\",\"xaxis\":\"x2\",\"yaxis\":\"y2\"},{\"name\":\"Москва - Давление\",\"x\":[\"2025-05-03T21:00:00\",\"2025-05-04T00:00:00\",\"2025-05-04T03:00:00\",\"2025-05-04T06:00:00\",\"2025-05-04T09:00:00\",\"2025-05-04T12:00:00\",\"2025-05-04T15:00:00\",\"2025-05-04T18:00:00\",\"2025-05-04T21:00:00\",\"2025-05-05T00:00:00\",\"2025-05-05T03:00:00\",\"2025-05-05T06:00:00\",\"2025-05-05T09:00:00\",\"2025-05-05T12:00:00\",\"2025-05-05T15:00:00\",\"2025-05-05T18:00:00\",\"2025-05-05T21:00:00\",\"2025-05-06T00:00:00\",\"2025-05-06T03:00:00\",\"2025-05-06T06:00:00\",\"2025-05-06T09:00:00\",\"2025-05-06T12:00:00\",\"2025-05-06T15:00:00\",\"2025-05-06T18:00:00\",\"2025-05-06T21:00:00\",\"2025-05-07T00:00:00\",\"2025-05-07T03:00:00\",\"2025-05-07T06:00:00\",\"2025-05-07T09:00:00\",\"2025-05-07T12:00:00\",\"2025-05-07T15:00:00\",\"2025-05-07T18:00:00\",\"2025-05-07T21:00:00\",\"2025-05-08T00:00:00\",\"2025-05-08T03:00:00\",\"2025-05-08T06:00:00\",\"2025-05-08T09:00:00\",\"2025-05-08T12:00:00\",\"2025-05-08T15:00:00\",\"2025-05-08T18:00:00\"],\"y\":[1002,1002,1003,1003,1002,1002,999,997,995,997,999,999,1001,1004,1007,1010,1011,1013,1014,1015,1015,1013,1013,1013,1013,1012,1012,1011,1010,1009,1008,1009,1010,1010,1011,1011,1011,1011,1012,1013],\"type\":\"scatter\",\"xaxis\":\"x3\",\"yaxis\":\"y3\"},{\"name\":\"Москва - Осадки\",\"x\":[\"2025-05-03T21:00:00\",\"2025-05-04T00:00:00\",\"2025-05-04T03:00:00\",\"2025-05-04T06:00:00\",\"2025-05-04T09:00:00\",\"2025-05-04T12:00:00\",\"2025-05-04T15:00:00\",\"2025-05-04T18:00:00\",\"2025-05-04T21:00:00\",\"2025-05-05T00:00:00\",\"2025-05-05T03:00:00\",\"2025-05-05T06:00:00\",\"2025-05-05T09:00:00\",\"2025-05-05T12:00:00\",\"2025-05-05T15:00:00\",\"2025-05-05T18:00:00\",\"2025-05-05T21:00:00\",\"2025-05-06T00:00:00\",\"2025-05-06T03:00:00\",\"2025-05-06T06:00:00\",\"2025-05-06T09:00:00\",\"2025-05-06T12:00:00\",\"2025-05-06T15:00:00\",\"2025-05-06T18:00:00\",\"2025-05-06T21:00:00\",\"2025-05-07T00:00:00\",\"2025-05-07T03:00:00\",\"2025-05-07T06:00:00\",\"2025-05-07T09:00:00\",\"2025-05-07T12:00:00\",\"2025-05-07T15:00:00\",\"2025-05-07T18:00:00\",\"2025-05-07T21:00:00\",\"2025-05-08T00:00:00\",\"2025-05-08T03:00:00\",\"2025-05-08T06:00:00\",\"2025-05-08T09:00:00\",\"2025-05-08T12:00:00\",\"2025-05-08T15:00:00\",\"2025-05-08T18:00:00\"],\"y\":[0.0,0.0,0.0,0.0,0.0,0.0,1.1,1.21,0.19,0.13,0.0,0.0,0.0,0.0,0.0,0.0,0.0,0.0,0.0,0.0,0.0,0.0,0.0,0.0,0.0,0.0,0.0,0.0,0.1,1.04,1.37,0.48,0.0,0.0,0.0,0.0,0.0,0.0,0.0,0.0],\"type\":\"bar\",\"xaxis\":\"x4\",\"yaxis\":\"y4\"},{\"name\":\"Самара - Температура\",\"x\":[\"2025-05-03T21:00:00\",\"2025-05-04T00:00:00\",\"2025-05-04T03:00:00\",\"2025-05-04T06:00:00\",\"2025-05-04T09:00:00\",\"2025-05-04T12:00:00\",\"2025-05-04T15:00:00\",\"2025-05-04T18:00:00\",\"2025-05-04T21:00:00\",\"2025-05-05T00:00:00\",\"2025-05-05T03:00:00\",\"2025-05-05T06:00:00\",\"2025-05-05T09:00:00\",\"2025-05-05T12:00:00\",\"2025-05-05T15:00:00\",\"2025-05-05T18:00:00\",\"2025-05-05T21:00:00\",\"2025-05-06T00:00:00\",\"2025-05-06T03:00:00\",\"2025-05-06T06:00:00\",\"2025-05-06T09:00:00\",\"2025-05-06T12:00:00\",\"2025-05-06T15:00:00\",\"2025-05-06T18:00:00\",\"2025-05-06T21:00:00\",\"2025-05-07T00:00:00\",\"2025-05-07T03:00:00\",\"2025-05-07T06:00:00\",\"2025-05-07T09:00:00\",\"2025-05-07T12:00:00\",\"2025-05-07T15:00:00\",\"2025-05-07T18:00:00\",\"2025-05-07T21:00:00\",\"2025-05-08T00:00:00\",\"2025-05-08T03:00:00\",\"2025-05-08T06:00:00\",\"2025-05-08T09:00:00\",\"2025-05-08T12:00:00\",\"2025-05-08T15:00:00\",\"2025-05-08T18:00:00\"],\"y\":[7.52,7.63,8.91,14.55,16.13,16.8,17.01,14.08,12.8,12.38,13.51,19.05,22.19,23.08,21.11,18.25,15.68,14.08,14.89,19.15,13.09,14.56,11.76,9.85,8.9,7.69,9.06,13.45,17.02,18.52,16.28,14.15,13.13,12.15,11.4,12.99,17.6,17.59,16.31,14.68],\"type\":\"scatter\",\"xaxis\":\"x\",\"yaxis\":\"y\"},{\"name\":\"Самара - Влажность\",\"x\":[\"2025-05-03T21:00:00\",\"2025-05-04T00:00:00\",\"2025-05-04T03:00:00\",\"2025-05-04T06:00:00\",\"2025-05-04T09:00:00\",\"2025-05-04T12:00:00\",\"2025-05-04T15:00:00\",\"2025-05-04T18:00:00\",\"2025-05-04T21:00:00\",\"2025-05-05T00:00:00\",\"2025-05-05T03:00:00\",\"2025-05-05T06:00:00\",\"2025-05-05T09:00:00\",\"2025-05-05T12:00:00\",\"2025-05-05T15:00:00\",\"2025-05-05T18:00:00\",\"2025-05-05T21:00:00\",\"2025-05-06T00:00:00\",\"2025-05-06T03:00:00\",\"2025-05-06T06:00:00\",\"2025-05-06T09:00:00\",\"2025-05-06T12:00:00\",\"2025-05-06T15:00:00\",\"2025-05-06T18:00:00\",\"2025-05-06T21:00:00\",\"2025-05-07T00:00:00\",\"2025-05-07T03:00:00\",\"2025-05-07T06:00:00\",\"2025-05-07T09:00:00\",\"2025-05-07T12:00:00\",\"2025-05-07T15:00:00\",\"2025-05-07T18:00:00\",\"2025-05-07T21:00:00\",\"2025-05-08T00:00:00\",\"2025-05-08T03:00:00\",\"2025-05-08T06:00:00\",\"2025-05-08T09:00:00\",\"2025-05-08T12:00:00\",\"2025-05-08T15:00:00\",\"2025-05-08T18:00:00\"],\"y\":[67,66,61,45,45,43,46,59,64,63,58,39,28,30,42,52,51,50,47,43,72,61,69,79,83,77,63,43,36,35,45,49,53,62,70,62,46,45,48,54],\"type\":\"scatter\",\"xaxis\":\"x2\",\"yaxis\":\"y2\"},{\"name\":\"Самара - Давление\",\"x\":[\"2025-05-03T21:00:00\",\"2025-05-04T00:00:00\",\"2025-05-04T03:00:00\",\"2025-05-04T06:00:00\",\"2025-05-04T09:00:00\",\"2025-05-04T12:00:00\",\"2025-05-04T15:00:00\",\"2025-05-04T18:00:00\",\"2025-05-04T21:00:00\",\"2025-05-05T00:00:00\",\"2025-05-05T03:00:00\",\"2025-05-05T06:00:00\",\"2025-05-05T09:00:00\",\"2025-05-05T12:00:00\",\"2025-05-05T15:00:00\",\"2025-05-05T18:00:00\",\"2025-05-05T21:00:00\",\"2025-05-06T00:00:00\",\"2025-05-06T03:00:00\",\"2025-05-06T06:00:00\",\"2025-05-06T09:00:00\",\"2025-05-06T12:00:00\",\"2025-05-06T15:00:00\",\"2025-05-06T18:00:00\",\"2025-05-06T21:00:00\",\"2025-05-07T00:00:00\",\"2025-05-07T03:00:00\",\"2025-05-07T06:00:00\",\"2025-05-07T09:00:00\",\"2025-05-07T12:00:00\",\"2025-05-07T15:00:00\",\"2025-05-07T18:00:00\",\"2025-05-07T21:00:00\",\"2025-05-08T00:00:00\",\"2025-05-08T03:00:00\",\"2025-05-08T06:00:00\",\"2025-05-08T09:00:00\",\"2025-05-08T12:00:00\",\"2025-05-08T15:00:00\",\"2025-05-08T18:00:00\"],\"y\":[1013,1013,1012,1012,1011,1012,1011,1013,1013,1012,1012,1013,1012,1010,1010,1010,1009,1009,1009,1009,1011,1012,1012,1014,1014,1014,1014,1012,1011,1009,1007,1007,1006,1006,1006,1006,1006,1007,1007,1009],\"type\":\"scatter\",\"xaxis\":\"x3\",\"yaxis\":\"y3\"},{\"name\":\"Самара - Осадки\",\"x\":[\"2025-05-03T21:00:00\",\"2025-05-04T00:00:00\",\"2025-05-04T03:00:00\",\"2025-05-04T06:00:00\",\"2025-05-04T09:00:00\",\"2025-05-04T12:00:00\",\"2025-05-04T15:00:00\",\"2025-05-04T18:00:00\",\"2025-05-04T21:00:00\",\"2025-05-05T00:00:00\",\"2025-05-05T03:00:00\",\"2025-05-05T06:00:00\",\"2025-05-05T09:00:00\",\"2025-05-05T12:00:00\",\"2025-05-05T15:00:00\",\"2025-05-05T18:00:00\",\"2025-05-05T21:00:00\",\"2025-05-06T00:00:00\",\"2025-05-06T03:00:00\",\"2025-05-06T06:00:00\",\"2025-05-06T09:00:00\",\"2025-05-06T12:00:00\",\"2025-05-06T15:00:00\",\"2025-05-06T18:00:00\",\"2025-05-06T21:00:00\",\"2025-05-07T00:00:00\",\"2025-05-07T03:00:00\",\"2025-05-07T06:00:00\",\"2025-05-07T09:00:00\",\"2025-05-07T12:00:00\",\"2025-05-07T15:00:00\",\"2025-05-07T18:00:00\",\"2025-05-07T21:00:00\",\"2025-05-08T00:00:00\",\"2025-05-08T03:00:00\",\"2025-05-08T06:00:00\",\"2025-05-08T09:00:00\",\"2025-05-08T12:00:00\",\"2025-05-08T15:00:00\",\"2025-05-08T18:00:00\"],\"y\":[0.0,0.0,0.0,0.0,0.0,0.0,0.0,0.0,0.0,0.0,0.0,0.0,0.0,0.0,0.0,0.0,0.0,0.0,0.0,0.0,0.0,0.0,0.0,0.0,0.0,0.0,0.0,0.0,0.0,0.0,0.0,0.0,0.0,0.0,0.0,0.0,0.0,0.0,0.0,0.0],\"type\":\"bar\",\"xaxis\":\"x4\",\"yaxis\":\"y4\"},{\"name\":\"Санкт-Петербург - Температура\",\"x\":[\"2025-05-03T21:00:00\",\"2025-05-04T00:00:00\",\"2025-05-04T03:00:00\",\"2025-05-04T06:00:00\",\"2025-05-04T09:00:00\",\"2025-05-04T12:00:00\",\"2025-05-04T15:00:00\",\"2025-05-04T18:00:00\",\"2025-05-04T21:00:00\",\"2025-05-05T00:00:00\",\"2025-05-05T03:00:00\",\"2025-05-05T06:00:00\",\"2025-05-05T09:00:00\",\"2025-05-05T12:00:00\",\"2025-05-05T15:00:00\",\"2025-05-05T18:00:00\",\"2025-05-05T21:00:00\",\"2025-05-06T00:00:00\",\"2025-05-06T03:00:00\",\"2025-05-06T06:00:00\",\"2025-05-06T09:00:00\",\"2025-05-06T12:00:00\",\"2025-05-06T15:00:00\",\"2025-05-06T18:00:00\",\"2025-05-06T21:00:00\",\"2025-05-07T00:00:00\",\"2025-05-07T03:00:00\",\"2025-05-07T06:00:00\",\"2025-05-07T09:00:00\",\"2025-05-07T12:00:00\",\"2025-05-07T15:00:00\",\"2025-05-07T18:00:00\",\"2025-05-07T21:00:00\",\"2025-05-08T00:00:00\",\"2025-05-08T03:00:00\",\"2025-05-08T06:00:00\",\"2025-05-08T09:00:00\",\"2025-05-08T12:00:00\",\"2025-05-08T15:00:00\",\"2025-05-08T18:00:00\"],\"y\":[6.68,5.9,4.82,7.87,10.47,10.81,8.39,4.53,2.5,2.5,0.73,2.32,3.8,3.43,5.46,3.42,2.8,3.01,2.11,2.63,3.51,3.24,2.49,1.79,1.31,0.07,-0.46,3.88,4.91,5.93,5.14,2.01,0.99,0.51,1.26,4.28,2.9,2.72,4.98,3.54],\"type\":\"scatter\",\"xaxis\":\"x\",\"yaxis\":\"y\"},{\"name\":\"Санкт-Петербург - Влажность\",\"x\":[\"2025-05-03T21:00:00\",\"2025-05-04T00:00:00\",\"2025-05-04T03:00:00\",\"2025-05-04T06:00:00\",\"2025-05-04T09:00:00\",\"2025-05-04T12:00:00\",\"2025-05-04T15:00:00\",\"2025-05-04T18:00:00\",\"2025-05-04T21:00:00\",\"2025-05-05T00:00:00\",\"2025-05-05T03:00:00\",\"2025-05-05T06:00:00\",\"2025-05-05T09:00:00\",\"2025-05-05T12:00:00\",\"2025-05-05T15:00:00\",\"2025-05-05T18:00:00\",\"2025-05-05T21:00:00\",\"2025-05-06T00:00:00\",\"2025-05-06T03:00:00\",\"2025-05-06T06:00:00\",\"2025-05-06T09:00:00\",\"2025-05-06T12:00:00\",\"2025-05-06T15:00:00\",\"2025-05-06T18:00:00\",\"2025-05-06T21:00:00\",\"2025-05-07T00:00:00\",\"2025-05-07T03:00:00\",\"2025-05-07T06:00:00\",\"2025-05-07T09:00:00\",\"2025-05-07T12:00:00\",\"2025-05-07T15:00:00\",\"2025-05-07T18:00:00\",\"2025-05-07T21:00:00\",\"2025-05-08T00:00:00\",\"2025-05-08T03:00:00\",\"2025-05-08T06:00:00\",\"2025-05-08T09:00:00\",\"2025-05-08T12:00:00\",\"2025-05-08T15:00:00\",\"2025-05-08T18:00:00\"],\"y\":[82,83,85,60,44,42,50,87,81,68,75,62,57,67,55,70,78,82,89,88,93,96,99,100,98,88,86,67,64,62,67,85,92,96,90,70,94,98,84,89],\"type\":\"scatter\",\"xaxis\":\"x2\",\"yaxis\":\"y2\"},{\"name\":\"Санкт-Петербург - Давление\",\"x\":[\"2025-05-03T21:00:00\",\"2025-05-04T00:00:00\",\"2025-05-04T03:00:00\",\"2025-05-04T06:00:00\",\"2025-05-04T09:00:00\",\"2025-05-04T12:00:00\",\"2025-05-04T15:00:00\",\"2025-05-04T18:00:00\",\"2025-05-04T21:00:00\",\"2025-05-05T00:00:00\",\"2025-05-05T03:00:00\",\"2025-05-05T06:00:00\",\"2025-05-05T09:00:00\",\"2025-05-05T12:00:00\",\"2025-05-05T15:00:00\",\"2025-05-05T18:00:00\",\"2025-05-05T21:00:00\",\"2025-05-06T00:00:00\",\"2025-05-06T03:00:00\",\"2025-05-06T06:00:00\",\"2025-05-06T09:00:00\",\"2025-05-06T12:00:00\",\"2025-05-06T15:00:00\",\"2025-05-06T18:00:00\",\"2025-05-06T21:00:00\",\"2025-05-07T00:00:00\",\"2025-05-07T03:00:00\",\"2025-05-07T06:00:00\",\"2025-05-07T09:00:00\",\"2025-05-07T12:00:00\",\"2025-05-07T15:00:00\",\"2025-05-07T18:00:00\",\"2025-05-07T21:00:00\",\"2025-05-08T00:00:00\",\"2025-05-08T03:00:00\",\"2025-05-08T06:00:00\",\"2025-05-08T09:00:00\",\"2025-05-08T12:00:00\",\"2025-05-08T15:00:00\",\"2025-05-08T18:00:00\"],\"y\":[996,997,997,998,999,999,998,999,1000,1000,1000,1001,1003,1004,1004,1006,1006,1007,1008,1009,1008,1008,1008,1009,1009,1010,1011,1012,1012,1012,1013,1013,1013,1012,1013,1013,1014,1014,1014,1014],\"type\":\"scatter\",\"xaxis\":\"x3\",\"yaxis\":\"y3\"},{\"name\":\"Санкт-Петербург - Осадки\",\"x\":[\"2025-05-03T21:00:00\",\"2025-05-04T00:00:00\",\"2025-05-04T03:00:00\",\"2025-05-04T06:00:00\",\"2025-05-04T09:00:00\",\"2025-05-04T12:00:00\",\"2025-05-04T15:00:00\",\"2025-05-04T18:00:00\",\"2025-05-04T21:00:00\",\"2025-05-05T00:00:00\",\"2025-05-05T03:00:00\",\"2025-05-05T06:00:00\",\"2025-05-05T09:00:00\",\"2025-05-05T12:00:00\",\"2025-05-05T15:00:00\",\"2025-05-05T18:00:00\",\"2025-05-05T21:00:00\",\"2025-05-06T00:00:00\",\"2025-05-06T03:00:00\",\"2025-05-06T06:00:00\",\"2025-05-06T09:00:00\",\"2025-05-06T12:00:00\",\"2025-05-06T15:00:00\",\"2025-05-06T18:00:00\",\"2025-05-06T21:00:00\",\"2025-05-07T00:00:00\",\"2025-05-07T03:00:00\",\"2025-05-07T06:00:00\",\"2025-05-07T09:00:00\",\"2025-05-07T12:00:00\",\"2025-05-07T15:00:00\",\"2025-05-07T18:00:00\",\"2025-05-07T21:00:00\",\"2025-05-08T00:00:00\",\"2025-05-08T03:00:00\",\"2025-05-08T06:00:00\",\"2025-05-08T09:00:00\",\"2025-05-08T12:00:00\",\"2025-05-08T15:00:00\",\"2025-05-08T18:00:00\"],\"y\":[0.0,0.0,0.0,0.0,0.0,0.0,0.0,0.0,0.0,0.0,0.0,0.0,0.0,0.0,0.12,0.0,0.0,0.0,0.0,0.0,0.0,1.68,0.0,6.72,0.51,0.0,0.0,0.0,0.21,0.77,0.37,0.0,0.0,0.0,0.0,0.0,0.0,2.6,1.41,0.15],\"type\":\"bar\",\"xaxis\":\"x4\",\"yaxis\":\"y4\"}],                        {\"template\":{\"data\":{\"barpolar\":[{\"marker\":{\"line\":{\"color\":\"white\",\"width\":0.5},\"pattern\":{\"fillmode\":\"overlay\",\"size\":10,\"solidity\":0.2}},\"type\":\"barpolar\"}],\"bar\":[{\"error_x\":{\"color\":\"#2a3f5f\"},\"error_y\":{\"color\":\"#2a3f5f\"},\"marker\":{\"line\":{\"color\":\"white\",\"width\":0.5},\"pattern\":{\"fillmode\":\"overlay\",\"size\":10,\"solidity\":0.2}},\"type\":\"bar\"}],\"carpet\":[{\"aaxis\":{\"endlinecolor\":\"#2a3f5f\",\"gridcolor\":\"#C8D4E3\",\"linecolor\":\"#C8D4E3\",\"minorgridcolor\":\"#C8D4E3\",\"startlinecolor\":\"#2a3f5f\"},\"baxis\":{\"endlinecolor\":\"#2a3f5f\",\"gridcolor\":\"#C8D4E3\",\"linecolor\":\"#C8D4E3\",\"minorgridcolor\":\"#C8D4E3\",\"startlinecolor\":\"#2a3f5f\"},\"type\":\"carpet\"}],\"choropleth\":[{\"colorbar\":{\"outlinewidth\":0,\"ticks\":\"\"},\"type\":\"choropleth\"}],\"contourcarpet\":[{\"colorbar\":{\"outlinewidth\":0,\"ticks\":\"\"},\"type\":\"contourcarpet\"}],\"contour\":[{\"colorbar\":{\"outlinewidth\":0,\"ticks\":\"\"},\"colorscale\":[[0.0,\"#0d0887\"],[0.1111111111111111,\"#46039f\"],[0.2222222222222222,\"#7201a8\"],[0.3333333333333333,\"#9c179e\"],[0.4444444444444444,\"#bd3786\"],[0.5555555555555556,\"#d8576b\"],[0.6666666666666666,\"#ed7953\"],[0.7777777777777778,\"#fb9f3a\"],[0.8888888888888888,\"#fdca26\"],[1.0,\"#f0f921\"]],\"type\":\"contour\"}],\"heatmapgl\":[{\"colorbar\":{\"outlinewidth\":0,\"ticks\":\"\"},\"colorscale\":[[0.0,\"#0d0887\"],[0.1111111111111111,\"#46039f\"],[0.2222222222222222,\"#7201a8\"],[0.3333333333333333,\"#9c179e\"],[0.4444444444444444,\"#bd3786\"],[0.5555555555555556,\"#d8576b\"],[0.6666666666666666,\"#ed7953\"],[0.7777777777777778,\"#fb9f3a\"],[0.8888888888888888,\"#fdca26\"],[1.0,\"#f0f921\"]],\"type\":\"heatmapgl\"}],\"heatmap\":[{\"colorbar\":{\"outlinewidth\":0,\"ticks\":\"\"},\"colorscale\":[[0.0,\"#0d0887\"],[0.1111111111111111,\"#46039f\"],[0.2222222222222222,\"#7201a8\"],[0.3333333333333333,\"#9c179e\"],[0.4444444444444444,\"#bd3786\"],[0.5555555555555556,\"#d8576b\"],[0.6666666666666666,\"#ed7953\"],[0.7777777777777778,\"#fb9f3a\"],[0.8888888888888888,\"#fdca26\"],[1.0,\"#f0f921\"]],\"type\":\"heatmap\"}],\"histogram2dcontour\":[{\"colorbar\":{\"outlinewidth\":0,\"ticks\":\"\"},\"colorscale\":[[0.0,\"#0d0887\"],[0.1111111111111111,\"#46039f\"],[0.2222222222222222,\"#7201a8\"],[0.3333333333333333,\"#9c179e\"],[0.4444444444444444,\"#bd3786\"],[0.5555555555555556,\"#d8576b\"],[0.6666666666666666,\"#ed7953\"],[0.7777777777777778,\"#fb9f3a\"],[0.8888888888888888,\"#fdca26\"],[1.0,\"#f0f921\"]],\"type\":\"histogram2dcontour\"}],\"histogram2d\":[{\"colorbar\":{\"outlinewidth\":0,\"ticks\":\"\"},\"colorscale\":[[0.0,\"#0d0887\"],[0.1111111111111111,\"#46039f\"],[0.2222222222222222,\"#7201a8\"],[0.3333333333333333,\"#9c179e\"],[0.4444444444444444,\"#bd3786\"],[0.5555555555555556,\"#d8576b\"],[0.6666666666666666,\"#ed7953\"],[0.7777777777777778,\"#fb9f3a\"],[0.8888888888888888,\"#fdca26\"],[1.0,\"#f0f921\"]],\"type\":\"histogram2d\"}],\"histogram\":[{\"marker\":{\"pattern\":{\"fillmode\":\"overlay\",\"size\":10,\"solidity\":0.2}},\"type\":\"histogram\"}],\"mesh3d\":[{\"colorbar\":{\"outlinewidth\":0,\"ticks\":\"\"},\"type\":\"mesh3d\"}],\"parcoords\":[{\"line\":{\"colorbar\":{\"outlinewidth\":0,\"ticks\":\"\"}},\"type\":\"parcoords\"}],\"pie\":[{\"automargin\":true,\"type\":\"pie\"}],\"scatter3d\":[{\"line\":{\"colorbar\":{\"outlinewidth\":0,\"ticks\":\"\"}},\"marker\":{\"colorbar\":{\"outlinewidth\":0,\"ticks\":\"\"}},\"type\":\"scatter3d\"}],\"scattercarpet\":[{\"marker\":{\"colorbar\":{\"outlinewidth\":0,\"ticks\":\"\"}},\"type\":\"scattercarpet\"}],\"scattergeo\":[{\"marker\":{\"colorbar\":{\"outlinewidth\":0,\"ticks\":\"\"}},\"type\":\"scattergeo\"}],\"scattergl\":[{\"marker\":{\"colorbar\":{\"outlinewidth\":0,\"ticks\":\"\"}},\"type\":\"scattergl\"}],\"scattermapbox\":[{\"marker\":{\"colorbar\":{\"outlinewidth\":0,\"ticks\":\"\"}},\"type\":\"scattermapbox\"}],\"scatterpolargl\":[{\"marker\":{\"colorbar\":{\"outlinewidth\":0,\"ticks\":\"\"}},\"type\":\"scatterpolargl\"}],\"scatterpolar\":[{\"marker\":{\"colorbar\":{\"outlinewidth\":0,\"ticks\":\"\"}},\"type\":\"scatterpolar\"}],\"scatter\":[{\"fillpattern\":{\"fillmode\":\"overlay\",\"size\":10,\"solidity\":0.2},\"type\":\"scatter\"}],\"scatterternary\":[{\"marker\":{\"colorbar\":{\"outlinewidth\":0,\"ticks\":\"\"}},\"type\":\"scatterternary\"}],\"surface\":[{\"colorbar\":{\"outlinewidth\":0,\"ticks\":\"\"},\"colorscale\":[[0.0,\"#0d0887\"],[0.1111111111111111,\"#46039f\"],[0.2222222222222222,\"#7201a8\"],[0.3333333333333333,\"#9c179e\"],[0.4444444444444444,\"#bd3786\"],[0.5555555555555556,\"#d8576b\"],[0.6666666666666666,\"#ed7953\"],[0.7777777777777778,\"#fb9f3a\"],[0.8888888888888888,\"#fdca26\"],[1.0,\"#f0f921\"]],\"type\":\"surface\"}],\"table\":[{\"cells\":{\"fill\":{\"color\":\"#EBF0F8\"},\"line\":{\"color\":\"white\"}},\"header\":{\"fill\":{\"color\":\"#C8D4E3\"},\"line\":{\"color\":\"white\"}},\"type\":\"table\"}]},\"layout\":{\"annotationdefaults\":{\"arrowcolor\":\"#2a3f5f\",\"arrowhead\":0,\"arrowwidth\":1},\"autotypenumbers\":\"strict\",\"coloraxis\":{\"colorbar\":{\"outlinewidth\":0,\"ticks\":\"\"}},\"colorscale\":{\"diverging\":[[0,\"#8e0152\"],[0.1,\"#c51b7d\"],[0.2,\"#de77ae\"],[0.3,\"#f1b6da\"],[0.4,\"#fde0ef\"],[0.5,\"#f7f7f7\"],[0.6,\"#e6f5d0\"],[0.7,\"#b8e186\"],[0.8,\"#7fbc41\"],[0.9,\"#4d9221\"],[1,\"#276419\"]],\"sequential\":[[0.0,\"#0d0887\"],[0.1111111111111111,\"#46039f\"],[0.2222222222222222,\"#7201a8\"],[0.3333333333333333,\"#9c179e\"],[0.4444444444444444,\"#bd3786\"],[0.5555555555555556,\"#d8576b\"],[0.6666666666666666,\"#ed7953\"],[0.7777777777777778,\"#fb9f3a\"],[0.8888888888888888,\"#fdca26\"],[1.0,\"#f0f921\"]],\"sequentialminus\":[[0.0,\"#0d0887\"],[0.1111111111111111,\"#46039f\"],[0.2222222222222222,\"#7201a8\"],[0.3333333333333333,\"#9c179e\"],[0.4444444444444444,\"#bd3786\"],[0.5555555555555556,\"#d8576b\"],[0.6666666666666666,\"#ed7953\"],[0.7777777777777778,\"#fb9f3a\"],[0.8888888888888888,\"#fdca26\"],[1.0,\"#f0f921\"]]},\"colorway\":[\"#636efa\",\"#EF553B\",\"#00cc96\",\"#ab63fa\",\"#FFA15A\",\"#19d3f3\",\"#FF6692\",\"#B6E880\",\"#FF97FF\",\"#FECB52\"],\"font\":{\"color\":\"#2a3f5f\"},\"geo\":{\"bgcolor\":\"white\",\"lakecolor\":\"white\",\"landcolor\":\"white\",\"showlakes\":true,\"showland\":true,\"subunitcolor\":\"#C8D4E3\"},\"hoverlabel\":{\"align\":\"left\"},\"hovermode\":\"closest\",\"mapbox\":{\"style\":\"light\"},\"paper_bgcolor\":\"white\",\"plot_bgcolor\":\"white\",\"polar\":{\"angularaxis\":{\"gridcolor\":\"#EBF0F8\",\"linecolor\":\"#EBF0F8\",\"ticks\":\"\"},\"bgcolor\":\"white\",\"radialaxis\":{\"gridcolor\":\"#EBF0F8\",\"linecolor\":\"#EBF0F8\",\"ticks\":\"\"}},\"scene\":{\"xaxis\":{\"backgroundcolor\":\"white\",\"gridcolor\":\"#DFE8F3\",\"gridwidth\":2,\"linecolor\":\"#EBF0F8\",\"showbackground\":true,\"ticks\":\"\",\"zerolinecolor\":\"#EBF0F8\"},\"yaxis\":{\"backgroundcolor\":\"white\",\"gridcolor\":\"#DFE8F3\",\"gridwidth\":2,\"linecolor\":\"#EBF0F8\",\"showbackground\":true,\"ticks\":\"\",\"zerolinecolor\":\"#EBF0F8\"},\"zaxis\":{\"backgroundcolor\":\"white\",\"gridcolor\":\"#DFE8F3\",\"gridwidth\":2,\"linecolor\":\"#EBF0F8\",\"showbackground\":true,\"ticks\":\"\",\"zerolinecolor\":\"#EBF0F8\"}},\"shapedefaults\":{\"line\":{\"color\":\"#2a3f5f\"}},\"ternary\":{\"aaxis\":{\"gridcolor\":\"#DFE8F3\",\"linecolor\":\"#A2B1C6\",\"ticks\":\"\"},\"baxis\":{\"gridcolor\":\"#DFE8F3\",\"linecolor\":\"#A2B1C6\",\"ticks\":\"\"},\"bgcolor\":\"white\",\"caxis\":{\"gridcolor\":\"#DFE8F3\",\"linecolor\":\"#A2B1C6\",\"ticks\":\"\"}},\"title\":{\"x\":0.05},\"xaxis\":{\"automargin\":true,\"gridcolor\":\"#EBF0F8\",\"linecolor\":\"#EBF0F8\",\"ticks\":\"\",\"title\":{\"standoff\":15},\"zerolinecolor\":\"#EBF0F8\",\"zerolinewidth\":2},\"yaxis\":{\"automargin\":true,\"gridcolor\":\"#EBF0F8\",\"linecolor\":\"#EBF0F8\",\"ticks\":\"\",\"title\":{\"standoff\":15},\"zerolinecolor\":\"#EBF0F8\",\"zerolinewidth\":2}}},\"xaxis\":{\"anchor\":\"y\",\"domain\":[0.0,0.45]},\"yaxis\":{\"anchor\":\"x\",\"domain\":[0.625,1.0]},\"xaxis2\":{\"anchor\":\"y2\",\"domain\":[0.55,1.0]},\"yaxis2\":{\"anchor\":\"x2\",\"domain\":[0.625,1.0]},\"xaxis3\":{\"anchor\":\"y3\",\"domain\":[0.0,0.45]},\"yaxis3\":{\"anchor\":\"x3\",\"domain\":[0.0,0.375]},\"xaxis4\":{\"anchor\":\"y4\",\"domain\":[0.55,1.0]},\"yaxis4\":{\"anchor\":\"x4\",\"domain\":[0.0,0.375]},\"annotations\":[{\"font\":{\"size\":16},\"showarrow\":false,\"text\":\"Температура\",\"x\":0.225,\"xanchor\":\"center\",\"xref\":\"paper\",\"y\":1.0,\"yanchor\":\"bottom\",\"yref\":\"paper\"},{\"font\":{\"size\":16},\"showarrow\":false,\"text\":\"Влажность\",\"x\":0.775,\"xanchor\":\"center\",\"xref\":\"paper\",\"y\":1.0,\"yanchor\":\"bottom\",\"yref\":\"paper\"},{\"font\":{\"size\":16},\"showarrow\":false,\"text\":\"Атм. давление\",\"x\":0.225,\"xanchor\":\"center\",\"xref\":\"paper\",\"y\":0.375,\"yanchor\":\"bottom\",\"yref\":\"paper\"},{\"font\":{\"size\":16},\"showarrow\":false,\"text\":\"Осадки\",\"x\":0.775,\"xanchor\":\"center\",\"xref\":\"paper\",\"y\":0.375,\"yanchor\":\"bottom\",\"yref\":\"paper\"}],\"title\":{\"text\":\"\\u003cb\\u003eСравнение основных метеопараметров\\u003c\\u002fb\\u003e\"},\"height\":800,\"hovermode\":\"x unified\"},                        {\"responsive\": true}                    ).then(function(){\n",
              "                            \n",
              "var gd = document.getElementById('404297f9-6048-4376-85e9-83a4e4d76a38');\n",
              "var x = new MutationObserver(function (mutations, observer) {{\n",
              "        var display = window.getComputedStyle(gd).display;\n",
              "        if (!display || display === 'none') {{\n",
              "            console.log([gd, 'removed!']);\n",
              "            Plotly.purge(gd);\n",
              "            observer.disconnect();\n",
              "        }}\n",
              "}});\n",
              "\n",
              "// Listen for the removal of the full notebook cells\n",
              "var notebookContainer = gd.closest('#notebook-container');\n",
              "if (notebookContainer) {{\n",
              "    x.observe(notebookContainer, {childList: true});\n",
              "}}\n",
              "\n",
              "// Listen for the clearing of the current output cell\n",
              "var outputEl = gd.closest('.output');\n",
              "if (outputEl) {{\n",
              "    x.observe(outputEl, {childList: true});\n",
              "}}\n",
              "\n",
              "                        })                };                            </script>        </div>\n",
              "</body>\n",
              "</html>"
            ]
          },
          "metadata": {}
        }
      ],
      "source": [
        "fig = make_subplots(rows=2, cols=2, subplot_titles=(\"Температура\", \"Влажность\", \"Атм. давление\", \"Осадки\"))\n",
        "for city in weather['city'].unique():\n",
        "    city_data = weather[weather['city'] == city]\n",
        "    fig.add_trace(go.Scatter(x=city_data['datetime'], y=city_data['temp_c'], name=f\"{city} - Температура\"), row=1, col=1)\n",
        "    fig.add_trace(go.Scatter(x=city_data['datetime'], y=city_data['humidity'], name=f\"{city} - Влажность\"), row=1, col=2)\n",
        "    fig.add_trace(go.Scatter(x=city_data['datetime'], y=city_data['pressure'], name=f\"{city} - Давление\"), row=2, col=1)\n",
        "    fig.add_trace(go.Bar(x=city_data['datetime'], y=city_data['rain_mm'], name=f\"{city} - Осадки\"), row=2, col=2)\n",
        "fig.update_layout(height=800, title_text=\"<b>Сравнение основных метеопараметров</b>\", hovermode=\"x unified\", template=\"plotly_white\")\n",
        "fig.show()"
      ]
    },
    {
      "cell_type": "markdown",
      "metadata": {
        "id": "CCVtE7hlaXyR"
      },
      "source": [
        "## 🌡️ Тепловая карта температур"
      ]
    },
    {
      "cell_type": "code",
      "execution_count": 22,
      "metadata": {
        "colab": {
          "base_uri": "https://localhost:8080/",
          "height": 542
        },
        "id": "ib2dfOJzaXyR",
        "outputId": "45511223-19e2-42d9-8904-d66e79259ccc"
      },
      "outputs": [
        {
          "output_type": "display_data",
          "data": {
            "text/html": [
              "<html>\n",
              "<head><meta charset=\"utf-8\" /></head>\n",
              "<body>\n",
              "    <div>            <script src=\"https://cdnjs.cloudflare.com/ajax/libs/mathjax/2.7.5/MathJax.js?config=TeX-AMS-MML_SVG\"></script><script type=\"text/javascript\">if (window.MathJax && window.MathJax.Hub && window.MathJax.Hub.Config) {window.MathJax.Hub.Config({SVG: {font: \"STIX-Web\"}});}</script>                <script type=\"text/javascript\">window.PlotlyConfig = {MathJaxConfig: 'local'};</script>\n",
              "        <script charset=\"utf-8\" src=\"https://cdn.plot.ly/plotly-2.35.2.min.js\"></script>                <div id=\"8bb4cd52-c2e5-4854-8e46-930165436255\" class=\"plotly-graph-div\" style=\"height:525px; width:100%;\"></div>            <script type=\"text/javascript\">                                    window.PLOTLYENV=window.PLOTLYENV || {};                                    if (document.getElementById(\"8bb4cd52-c2e5-4854-8e46-930165436255\")) {                    Plotly.newPlot(                        \"8bb4cd52-c2e5-4854-8e46-930165436255\",                        [{\"coloraxis\":\"coloraxis\",\"name\":\"0\",\"x\":[\"2025-05-03T21:00:00\",\"2025-05-04T00:00:00\",\"2025-05-04T03:00:00\",\"2025-05-04T06:00:00\",\"2025-05-04T09:00:00\",\"2025-05-04T12:00:00\",\"2025-05-04T15:00:00\",\"2025-05-04T18:00:00\",\"2025-05-04T21:00:00\",\"2025-05-05T00:00:00\",\"2025-05-05T03:00:00\",\"2025-05-05T06:00:00\",\"2025-05-05T09:00:00\",\"2025-05-05T12:00:00\",\"2025-05-05T15:00:00\",\"2025-05-05T18:00:00\",\"2025-05-05T21:00:00\",\"2025-05-06T00:00:00\",\"2025-05-06T03:00:00\",\"2025-05-06T06:00:00\",\"2025-05-06T09:00:00\",\"2025-05-06T12:00:00\",\"2025-05-06T15:00:00\",\"2025-05-06T18:00:00\",\"2025-05-06T21:00:00\",\"2025-05-07T00:00:00\",\"2025-05-07T03:00:00\",\"2025-05-07T06:00:00\",\"2025-05-07T09:00:00\",\"2025-05-07T12:00:00\",\"2025-05-07T15:00:00\",\"2025-05-07T18:00:00\",\"2025-05-07T21:00:00\",\"2025-05-08T00:00:00\",\"2025-05-08T03:00:00\",\"2025-05-08T06:00:00\",\"2025-05-08T09:00:00\",\"2025-05-08T12:00:00\",\"2025-05-08T15:00:00\",\"2025-05-08T18:00:00\"],\"y\":[\"Москва\",\"Самара\",\"Санкт-Петербург\"],\"z\":[[11.32,10.22,8.63,16.41,19.05,20.11,12.44,14.49,14.43,12.3,9.92,10.71,13.44,11.15,7.36,5.74,3.99,2.6,2.79,6.94,10.19,12.36,12.07,9.54,7.76,6.0,5.83,9.21,11.21,11.94,10.55,7.44,5.23,3.77,3.04,6.0,8.47,10.3,9.59,7.19],[7.52,7.63,8.91,14.55,16.13,16.8,17.01,14.08,12.8,12.38,13.51,19.05,22.19,23.08,21.11,18.25,15.68,14.08,14.89,19.15,13.09,14.56,11.76,9.85,8.9,7.69,9.06,13.45,17.02,18.52,16.28,14.15,13.13,12.15,11.4,12.99,17.6,17.59,16.31,14.68],[6.68,5.9,4.82,7.87,10.47,10.81,8.39,4.53,2.5,2.5,0.73,2.32,3.8,3.43,5.46,3.42,2.8,3.01,2.11,2.63,3.51,3.24,2.49,1.79,1.31,0.07,-0.46,3.88,4.91,5.93,5.14,2.01,0.99,0.51,1.26,4.28,2.9,2.72,4.98,3.54]],\"type\":\"heatmap\",\"xaxis\":\"x\",\"yaxis\":\"y\",\"hovertemplate\":\"Дата: %{x}\\u003cbr\\u003eГород: %{y}\\u003cbr\\u003eТемпература: %{z}\\u003cextra\\u003e\\u003c\\u002fextra\\u003e\"}],                        {\"template\":{\"data\":{\"histogram2dcontour\":[{\"type\":\"histogram2dcontour\",\"colorbar\":{\"outlinewidth\":0,\"ticks\":\"\"},\"colorscale\":[[0.0,\"#0d0887\"],[0.1111111111111111,\"#46039f\"],[0.2222222222222222,\"#7201a8\"],[0.3333333333333333,\"#9c179e\"],[0.4444444444444444,\"#bd3786\"],[0.5555555555555556,\"#d8576b\"],[0.6666666666666666,\"#ed7953\"],[0.7777777777777778,\"#fb9f3a\"],[0.8888888888888888,\"#fdca26\"],[1.0,\"#f0f921\"]]}],\"choropleth\":[{\"type\":\"choropleth\",\"colorbar\":{\"outlinewidth\":0,\"ticks\":\"\"}}],\"histogram2d\":[{\"type\":\"histogram2d\",\"colorbar\":{\"outlinewidth\":0,\"ticks\":\"\"},\"colorscale\":[[0.0,\"#0d0887\"],[0.1111111111111111,\"#46039f\"],[0.2222222222222222,\"#7201a8\"],[0.3333333333333333,\"#9c179e\"],[0.4444444444444444,\"#bd3786\"],[0.5555555555555556,\"#d8576b\"],[0.6666666666666666,\"#ed7953\"],[0.7777777777777778,\"#fb9f3a\"],[0.8888888888888888,\"#fdca26\"],[1.0,\"#f0f921\"]]}],\"heatmap\":[{\"type\":\"heatmap\",\"colorbar\":{\"outlinewidth\":0,\"ticks\":\"\"},\"colorscale\":[[0.0,\"#0d0887\"],[0.1111111111111111,\"#46039f\"],[0.2222222222222222,\"#7201a8\"],[0.3333333333333333,\"#9c179e\"],[0.4444444444444444,\"#bd3786\"],[0.5555555555555556,\"#d8576b\"],[0.6666666666666666,\"#ed7953\"],[0.7777777777777778,\"#fb9f3a\"],[0.8888888888888888,\"#fdca26\"],[1.0,\"#f0f921\"]]}],\"heatmapgl\":[{\"type\":\"heatmapgl\",\"colorbar\":{\"outlinewidth\":0,\"ticks\":\"\"},\"colorscale\":[[0.0,\"#0d0887\"],[0.1111111111111111,\"#46039f\"],[0.2222222222222222,\"#7201a8\"],[0.3333333333333333,\"#9c179e\"],[0.4444444444444444,\"#bd3786\"],[0.5555555555555556,\"#d8576b\"],[0.6666666666666666,\"#ed7953\"],[0.7777777777777778,\"#fb9f3a\"],[0.8888888888888888,\"#fdca26\"],[1.0,\"#f0f921\"]]}],\"contourcarpet\":[{\"type\":\"contourcarpet\",\"colorbar\":{\"outlinewidth\":0,\"ticks\":\"\"}}],\"contour\":[{\"type\":\"contour\",\"colorbar\":{\"outlinewidth\":0,\"ticks\":\"\"},\"colorscale\":[[0.0,\"#0d0887\"],[0.1111111111111111,\"#46039f\"],[0.2222222222222222,\"#7201a8\"],[0.3333333333333333,\"#9c179e\"],[0.4444444444444444,\"#bd3786\"],[0.5555555555555556,\"#d8576b\"],[0.6666666666666666,\"#ed7953\"],[0.7777777777777778,\"#fb9f3a\"],[0.8888888888888888,\"#fdca26\"],[1.0,\"#f0f921\"]]}],\"surface\":[{\"type\":\"surface\",\"colorbar\":{\"outlinewidth\":0,\"ticks\":\"\"},\"colorscale\":[[0.0,\"#0d0887\"],[0.1111111111111111,\"#46039f\"],[0.2222222222222222,\"#7201a8\"],[0.3333333333333333,\"#9c179e\"],[0.4444444444444444,\"#bd3786\"],[0.5555555555555556,\"#d8576b\"],[0.6666666666666666,\"#ed7953\"],[0.7777777777777778,\"#fb9f3a\"],[0.8888888888888888,\"#fdca26\"],[1.0,\"#f0f921\"]]}],\"mesh3d\":[{\"type\":\"mesh3d\",\"colorbar\":{\"outlinewidth\":0,\"ticks\":\"\"}}],\"scatter\":[{\"fillpattern\":{\"fillmode\":\"overlay\",\"size\":10,\"solidity\":0.2},\"type\":\"scatter\"}],\"parcoords\":[{\"type\":\"parcoords\",\"line\":{\"colorbar\":{\"outlinewidth\":0,\"ticks\":\"\"}}}],\"scatterpolargl\":[{\"type\":\"scatterpolargl\",\"marker\":{\"colorbar\":{\"outlinewidth\":0,\"ticks\":\"\"}}}],\"bar\":[{\"error_x\":{\"color\":\"#2a3f5f\"},\"error_y\":{\"color\":\"#2a3f5f\"},\"marker\":{\"line\":{\"color\":\"#E5ECF6\",\"width\":0.5},\"pattern\":{\"fillmode\":\"overlay\",\"size\":10,\"solidity\":0.2}},\"type\":\"bar\"}],\"scattergeo\":[{\"type\":\"scattergeo\",\"marker\":{\"colorbar\":{\"outlinewidth\":0,\"ticks\":\"\"}}}],\"scatterpolar\":[{\"type\":\"scatterpolar\",\"marker\":{\"colorbar\":{\"outlinewidth\":0,\"ticks\":\"\"}}}],\"histogram\":[{\"marker\":{\"pattern\":{\"fillmode\":\"overlay\",\"size\":10,\"solidity\":0.2}},\"type\":\"histogram\"}],\"scattergl\":[{\"type\":\"scattergl\",\"marker\":{\"colorbar\":{\"outlinewidth\":0,\"ticks\":\"\"}}}],\"scatter3d\":[{\"type\":\"scatter3d\",\"line\":{\"colorbar\":{\"outlinewidth\":0,\"ticks\":\"\"}},\"marker\":{\"colorbar\":{\"outlinewidth\":0,\"ticks\":\"\"}}}],\"scattermapbox\":[{\"type\":\"scattermapbox\",\"marker\":{\"colorbar\":{\"outlinewidth\":0,\"ticks\":\"\"}}}],\"scatterternary\":[{\"type\":\"scatterternary\",\"marker\":{\"colorbar\":{\"outlinewidth\":0,\"ticks\":\"\"}}}],\"scattercarpet\":[{\"type\":\"scattercarpet\",\"marker\":{\"colorbar\":{\"outlinewidth\":0,\"ticks\":\"\"}}}],\"carpet\":[{\"aaxis\":{\"endlinecolor\":\"#2a3f5f\",\"gridcolor\":\"white\",\"linecolor\":\"white\",\"minorgridcolor\":\"white\",\"startlinecolor\":\"#2a3f5f\"},\"baxis\":{\"endlinecolor\":\"#2a3f5f\",\"gridcolor\":\"white\",\"linecolor\":\"white\",\"minorgridcolor\":\"white\",\"startlinecolor\":\"#2a3f5f\"},\"type\":\"carpet\"}],\"table\":[{\"cells\":{\"fill\":{\"color\":\"#EBF0F8\"},\"line\":{\"color\":\"white\"}},\"header\":{\"fill\":{\"color\":\"#C8D4E3\"},\"line\":{\"color\":\"white\"}},\"type\":\"table\"}],\"barpolar\":[{\"marker\":{\"line\":{\"color\":\"#E5ECF6\",\"width\":0.5},\"pattern\":{\"fillmode\":\"overlay\",\"size\":10,\"solidity\":0.2}},\"type\":\"barpolar\"}],\"pie\":[{\"automargin\":true,\"type\":\"pie\"}]},\"layout\":{\"autotypenumbers\":\"strict\",\"colorway\":[\"#636efa\",\"#EF553B\",\"#00cc96\",\"#ab63fa\",\"#FFA15A\",\"#19d3f3\",\"#FF6692\",\"#B6E880\",\"#FF97FF\",\"#FECB52\"],\"font\":{\"color\":\"#2a3f5f\"},\"hovermode\":\"closest\",\"hoverlabel\":{\"align\":\"left\"},\"paper_bgcolor\":\"white\",\"plot_bgcolor\":\"#E5ECF6\",\"polar\":{\"bgcolor\":\"#E5ECF6\",\"angularaxis\":{\"gridcolor\":\"white\",\"linecolor\":\"white\",\"ticks\":\"\"},\"radialaxis\":{\"gridcolor\":\"white\",\"linecolor\":\"white\",\"ticks\":\"\"}},\"ternary\":{\"bgcolor\":\"#E5ECF6\",\"aaxis\":{\"gridcolor\":\"white\",\"linecolor\":\"white\",\"ticks\":\"\"},\"baxis\":{\"gridcolor\":\"white\",\"linecolor\":\"white\",\"ticks\":\"\"},\"caxis\":{\"gridcolor\":\"white\",\"linecolor\":\"white\",\"ticks\":\"\"}},\"coloraxis\":{\"colorbar\":{\"outlinewidth\":0,\"ticks\":\"\"}},\"colorscale\":{\"sequential\":[[0.0,\"#0d0887\"],[0.1111111111111111,\"#46039f\"],[0.2222222222222222,\"#7201a8\"],[0.3333333333333333,\"#9c179e\"],[0.4444444444444444,\"#bd3786\"],[0.5555555555555556,\"#d8576b\"],[0.6666666666666666,\"#ed7953\"],[0.7777777777777778,\"#fb9f3a\"],[0.8888888888888888,\"#fdca26\"],[1.0,\"#f0f921\"]],\"sequentialminus\":[[0.0,\"#0d0887\"],[0.1111111111111111,\"#46039f\"],[0.2222222222222222,\"#7201a8\"],[0.3333333333333333,\"#9c179e\"],[0.4444444444444444,\"#bd3786\"],[0.5555555555555556,\"#d8576b\"],[0.6666666666666666,\"#ed7953\"],[0.7777777777777778,\"#fb9f3a\"],[0.8888888888888888,\"#fdca26\"],[1.0,\"#f0f921\"]],\"diverging\":[[0,\"#8e0152\"],[0.1,\"#c51b7d\"],[0.2,\"#de77ae\"],[0.3,\"#f1b6da\"],[0.4,\"#fde0ef\"],[0.5,\"#f7f7f7\"],[0.6,\"#e6f5d0\"],[0.7,\"#b8e186\"],[0.8,\"#7fbc41\"],[0.9,\"#4d9221\"],[1,\"#276419\"]]},\"xaxis\":{\"gridcolor\":\"white\",\"linecolor\":\"white\",\"ticks\":\"\",\"title\":{\"standoff\":15},\"zerolinecolor\":\"white\",\"automargin\":true,\"zerolinewidth\":2},\"yaxis\":{\"gridcolor\":\"white\",\"linecolor\":\"white\",\"ticks\":\"\",\"title\":{\"standoff\":15},\"zerolinecolor\":\"white\",\"automargin\":true,\"zerolinewidth\":2},\"scene\":{\"xaxis\":{\"backgroundcolor\":\"#E5ECF6\",\"gridcolor\":\"white\",\"linecolor\":\"white\",\"showbackground\":true,\"ticks\":\"\",\"zerolinecolor\":\"white\",\"gridwidth\":2},\"yaxis\":{\"backgroundcolor\":\"#E5ECF6\",\"gridcolor\":\"white\",\"linecolor\":\"white\",\"showbackground\":true,\"ticks\":\"\",\"zerolinecolor\":\"white\",\"gridwidth\":2},\"zaxis\":{\"backgroundcolor\":\"#E5ECF6\",\"gridcolor\":\"white\",\"linecolor\":\"white\",\"showbackground\":true,\"ticks\":\"\",\"zerolinecolor\":\"white\",\"gridwidth\":2}},\"shapedefaults\":{\"line\":{\"color\":\"#2a3f5f\"}},\"annotationdefaults\":{\"arrowcolor\":\"#2a3f5f\",\"arrowhead\":0,\"arrowwidth\":1},\"geo\":{\"bgcolor\":\"white\",\"landcolor\":\"#E5ECF6\",\"subunitcolor\":\"white\",\"showland\":true,\"showlakes\":true,\"lakecolor\":\"white\"},\"title\":{\"x\":0.05},\"mapbox\":{\"style\":\"light\"}}},\"xaxis\":{\"anchor\":\"y\",\"domain\":[0.0,1.0],\"scaleanchor\":\"y\",\"constrain\":\"domain\",\"title\":{\"text\":\"Дата\"},\"side\":\"top\"},\"yaxis\":{\"anchor\":\"x\",\"domain\":[0.0,1.0],\"autorange\":\"reversed\",\"constrain\":\"domain\",\"title\":{\"text\":\"Город\"}},\"coloraxis\":{\"colorbar\":{\"title\":{\"text\":\"Температура\"}},\"colorscale\":[[0.0,\"rgb(5,48,97)\"],[0.1,\"rgb(33,102,172)\"],[0.2,\"rgb(67,147,195)\"],[0.3,\"rgb(146,197,222)\"],[0.4,\"rgb(209,229,240)\"],[0.5,\"rgb(247,247,247)\"],[0.6,\"rgb(253,219,199)\"],[0.7,\"rgb(244,165,130)\"],[0.8,\"rgb(214,96,77)\"],[0.9,\"rgb(178,24,43)\"],[1.0,\"rgb(103,0,31)\"]]},\"title\":{\"text\":\"\\u003cb\\u003eТепловая карта температур по дням\\u003c\\u002fb\\u003e\"}},                        {\"responsive\": true}                    ).then(function(){\n",
              "                            \n",
              "var gd = document.getElementById('8bb4cd52-c2e5-4854-8e46-930165436255');\n",
              "var x = new MutationObserver(function (mutations, observer) {{\n",
              "        var display = window.getComputedStyle(gd).display;\n",
              "        if (!display || display === 'none') {{\n",
              "            console.log([gd, 'removed!']);\n",
              "            Plotly.purge(gd);\n",
              "            observer.disconnect();\n",
              "        }}\n",
              "}});\n",
              "\n",
              "// Listen for the removal of the full notebook cells\n",
              "var notebookContainer = gd.closest('#notebook-container');\n",
              "if (notebookContainer) {{\n",
              "    x.observe(notebookContainer, {childList: true});\n",
              "}}\n",
              "\n",
              "// Listen for the clearing of the current output cell\n",
              "var outputEl = gd.closest('.output');\n",
              "if (outputEl) {{\n",
              "    x.observe(outputEl, {childList: true});\n",
              "}}\n",
              "\n",
              "                        })                };                            </script>        </div>\n",
              "</body>\n",
              "</html>"
            ]
          },
          "metadata": {}
        }
      ],
      "source": [
        "fig = px.imshow(\n",
        "    pd.pivot_table(weather, values='temp_c', index='city', columns='datetime'),\n",
        "    labels=dict(x=\"Дата\", y=\"Город\", color=\"Температура\"),\n",
        "    color_continuous_scale='RdBu_r',\n",
        "    title='<b>Тепловая карта температур по дням</b>'\n",
        ")\n",
        "fig.update_xaxes(side=\"top\")\n",
        "fig.show()"
      ]
    },
    {
      "cell_type": "markdown",
      "metadata": {
        "id": "Vi1vYy3uaXyS"
      },
      "source": [
        "## 📊 Сравнительная статистика"
      ]
    },
    {
      "cell_type": "code",
      "execution_count": 24,
      "metadata": {
        "colab": {
          "base_uri": "https://localhost:8080/",
          "height": 542
        },
        "id": "rqOh-nXKaXyS",
        "outputId": "34d2156b-23a6-424c-cfe2-2b5f45d18a4e"
      },
      "outputs": [
        {
          "output_type": "display_data",
          "data": {
            "text/html": [
              "<html>\n",
              "<head><meta charset=\"utf-8\" /></head>\n",
              "<body>\n",
              "    <div>            <script src=\"https://cdnjs.cloudflare.com/ajax/libs/mathjax/2.7.5/MathJax.js?config=TeX-AMS-MML_SVG\"></script><script type=\"text/javascript\">if (window.MathJax && window.MathJax.Hub && window.MathJax.Hub.Config) {window.MathJax.Hub.Config({SVG: {font: \"STIX-Web\"}});}</script>                <script type=\"text/javascript\">window.PlotlyConfig = {MathJaxConfig: 'local'};</script>\n",
              "        <script charset=\"utf-8\" src=\"https://cdn.plot.ly/plotly-2.35.2.min.js\"></script>                <div id=\"e7c31c0c-98fa-4b24-8551-5995dee3a4cc\" class=\"plotly-graph-div\" style=\"height:525px; width:100%;\"></div>            <script type=\"text/javascript\">                                    window.PLOTLYENV=window.PLOTLYENV || {};                                    if (document.getElementById(\"e7c31c0c-98fa-4b24-8551-5995dee3a4cc\")) {                    Plotly.newPlot(                        \"e7c31c0c-98fa-4b24-8551-5995dee3a4cc\",                        [{\"cells\":{\"align\":\"center\",\"fill\":{\"color\":\"lavender\"},\"values\":[[\"Москва\",\"Самара\",\"Санкт-Петербург\"],[9.5,14.5,3.7],[20.1,23.1,10.8],[2.6,7.5,-0.5],[58.8,53.8,78.1],[31.4,23.3,22.0],[5.6,0.0,14.5]]},\"header\":{\"fill\":{\"color\":\"#3498db\"},\"font\":{\"color\":\"white\",\"size\":12},\"values\":[\"Город\",\"Ср. темп.\",\"Макс. темп.\",\"Мин. темп.\",\"Влажность\",\"Макс. ветер\",\"Осадки\"]},\"type\":\"table\"}],                        {\"template\":{\"data\":{\"histogram2dcontour\":[{\"type\":\"histogram2dcontour\",\"colorbar\":{\"outlinewidth\":0,\"ticks\":\"\"},\"colorscale\":[[0.0,\"#0d0887\"],[0.1111111111111111,\"#46039f\"],[0.2222222222222222,\"#7201a8\"],[0.3333333333333333,\"#9c179e\"],[0.4444444444444444,\"#bd3786\"],[0.5555555555555556,\"#d8576b\"],[0.6666666666666666,\"#ed7953\"],[0.7777777777777778,\"#fb9f3a\"],[0.8888888888888888,\"#fdca26\"],[1.0,\"#f0f921\"]]}],\"choropleth\":[{\"type\":\"choropleth\",\"colorbar\":{\"outlinewidth\":0,\"ticks\":\"\"}}],\"histogram2d\":[{\"type\":\"histogram2d\",\"colorbar\":{\"outlinewidth\":0,\"ticks\":\"\"},\"colorscale\":[[0.0,\"#0d0887\"],[0.1111111111111111,\"#46039f\"],[0.2222222222222222,\"#7201a8\"],[0.3333333333333333,\"#9c179e\"],[0.4444444444444444,\"#bd3786\"],[0.5555555555555556,\"#d8576b\"],[0.6666666666666666,\"#ed7953\"],[0.7777777777777778,\"#fb9f3a\"],[0.8888888888888888,\"#fdca26\"],[1.0,\"#f0f921\"]]}],\"heatmap\":[{\"type\":\"heatmap\",\"colorbar\":{\"outlinewidth\":0,\"ticks\":\"\"},\"colorscale\":[[0.0,\"#0d0887\"],[0.1111111111111111,\"#46039f\"],[0.2222222222222222,\"#7201a8\"],[0.3333333333333333,\"#9c179e\"],[0.4444444444444444,\"#bd3786\"],[0.5555555555555556,\"#d8576b\"],[0.6666666666666666,\"#ed7953\"],[0.7777777777777778,\"#fb9f3a\"],[0.8888888888888888,\"#fdca26\"],[1.0,\"#f0f921\"]]}],\"heatmapgl\":[{\"type\":\"heatmapgl\",\"colorbar\":{\"outlinewidth\":0,\"ticks\":\"\"},\"colorscale\":[[0.0,\"#0d0887\"],[0.1111111111111111,\"#46039f\"],[0.2222222222222222,\"#7201a8\"],[0.3333333333333333,\"#9c179e\"],[0.4444444444444444,\"#bd3786\"],[0.5555555555555556,\"#d8576b\"],[0.6666666666666666,\"#ed7953\"],[0.7777777777777778,\"#fb9f3a\"],[0.8888888888888888,\"#fdca26\"],[1.0,\"#f0f921\"]]}],\"contourcarpet\":[{\"type\":\"contourcarpet\",\"colorbar\":{\"outlinewidth\":0,\"ticks\":\"\"}}],\"contour\":[{\"type\":\"contour\",\"colorbar\":{\"outlinewidth\":0,\"ticks\":\"\"},\"colorscale\":[[0.0,\"#0d0887\"],[0.1111111111111111,\"#46039f\"],[0.2222222222222222,\"#7201a8\"],[0.3333333333333333,\"#9c179e\"],[0.4444444444444444,\"#bd3786\"],[0.5555555555555556,\"#d8576b\"],[0.6666666666666666,\"#ed7953\"],[0.7777777777777778,\"#fb9f3a\"],[0.8888888888888888,\"#fdca26\"],[1.0,\"#f0f921\"]]}],\"surface\":[{\"type\":\"surface\",\"colorbar\":{\"outlinewidth\":0,\"ticks\":\"\"},\"colorscale\":[[0.0,\"#0d0887\"],[0.1111111111111111,\"#46039f\"],[0.2222222222222222,\"#7201a8\"],[0.3333333333333333,\"#9c179e\"],[0.4444444444444444,\"#bd3786\"],[0.5555555555555556,\"#d8576b\"],[0.6666666666666666,\"#ed7953\"],[0.7777777777777778,\"#fb9f3a\"],[0.8888888888888888,\"#fdca26\"],[1.0,\"#f0f921\"]]}],\"mesh3d\":[{\"type\":\"mesh3d\",\"colorbar\":{\"outlinewidth\":0,\"ticks\":\"\"}}],\"scatter\":[{\"fillpattern\":{\"fillmode\":\"overlay\",\"size\":10,\"solidity\":0.2},\"type\":\"scatter\"}],\"parcoords\":[{\"type\":\"parcoords\",\"line\":{\"colorbar\":{\"outlinewidth\":0,\"ticks\":\"\"}}}],\"scatterpolargl\":[{\"type\":\"scatterpolargl\",\"marker\":{\"colorbar\":{\"outlinewidth\":0,\"ticks\":\"\"}}}],\"bar\":[{\"error_x\":{\"color\":\"#2a3f5f\"},\"error_y\":{\"color\":\"#2a3f5f\"},\"marker\":{\"line\":{\"color\":\"#E5ECF6\",\"width\":0.5},\"pattern\":{\"fillmode\":\"overlay\",\"size\":10,\"solidity\":0.2}},\"type\":\"bar\"}],\"scattergeo\":[{\"type\":\"scattergeo\",\"marker\":{\"colorbar\":{\"outlinewidth\":0,\"ticks\":\"\"}}}],\"scatterpolar\":[{\"type\":\"scatterpolar\",\"marker\":{\"colorbar\":{\"outlinewidth\":0,\"ticks\":\"\"}}}],\"histogram\":[{\"marker\":{\"pattern\":{\"fillmode\":\"overlay\",\"size\":10,\"solidity\":0.2}},\"type\":\"histogram\"}],\"scattergl\":[{\"type\":\"scattergl\",\"marker\":{\"colorbar\":{\"outlinewidth\":0,\"ticks\":\"\"}}}],\"scatter3d\":[{\"type\":\"scatter3d\",\"line\":{\"colorbar\":{\"outlinewidth\":0,\"ticks\":\"\"}},\"marker\":{\"colorbar\":{\"outlinewidth\":0,\"ticks\":\"\"}}}],\"scattermapbox\":[{\"type\":\"scattermapbox\",\"marker\":{\"colorbar\":{\"outlinewidth\":0,\"ticks\":\"\"}}}],\"scatterternary\":[{\"type\":\"scatterternary\",\"marker\":{\"colorbar\":{\"outlinewidth\":0,\"ticks\":\"\"}}}],\"scattercarpet\":[{\"type\":\"scattercarpet\",\"marker\":{\"colorbar\":{\"outlinewidth\":0,\"ticks\":\"\"}}}],\"carpet\":[{\"aaxis\":{\"endlinecolor\":\"#2a3f5f\",\"gridcolor\":\"white\",\"linecolor\":\"white\",\"minorgridcolor\":\"white\",\"startlinecolor\":\"#2a3f5f\"},\"baxis\":{\"endlinecolor\":\"#2a3f5f\",\"gridcolor\":\"white\",\"linecolor\":\"white\",\"minorgridcolor\":\"white\",\"startlinecolor\":\"#2a3f5f\"},\"type\":\"carpet\"}],\"table\":[{\"cells\":{\"fill\":{\"color\":\"#EBF0F8\"},\"line\":{\"color\":\"white\"}},\"header\":{\"fill\":{\"color\":\"#C8D4E3\"},\"line\":{\"color\":\"white\"}},\"type\":\"table\"}],\"barpolar\":[{\"marker\":{\"line\":{\"color\":\"#E5ECF6\",\"width\":0.5},\"pattern\":{\"fillmode\":\"overlay\",\"size\":10,\"solidity\":0.2}},\"type\":\"barpolar\"}],\"pie\":[{\"automargin\":true,\"type\":\"pie\"}]},\"layout\":{\"autotypenumbers\":\"strict\",\"colorway\":[\"#636efa\",\"#EF553B\",\"#00cc96\",\"#ab63fa\",\"#FFA15A\",\"#19d3f3\",\"#FF6692\",\"#B6E880\",\"#FF97FF\",\"#FECB52\"],\"font\":{\"color\":\"#2a3f5f\"},\"hovermode\":\"closest\",\"hoverlabel\":{\"align\":\"left\"},\"paper_bgcolor\":\"white\",\"plot_bgcolor\":\"#E5ECF6\",\"polar\":{\"bgcolor\":\"#E5ECF6\",\"angularaxis\":{\"gridcolor\":\"white\",\"linecolor\":\"white\",\"ticks\":\"\"},\"radialaxis\":{\"gridcolor\":\"white\",\"linecolor\":\"white\",\"ticks\":\"\"}},\"ternary\":{\"bgcolor\":\"#E5ECF6\",\"aaxis\":{\"gridcolor\":\"white\",\"linecolor\":\"white\",\"ticks\":\"\"},\"baxis\":{\"gridcolor\":\"white\",\"linecolor\":\"white\",\"ticks\":\"\"},\"caxis\":{\"gridcolor\":\"white\",\"linecolor\":\"white\",\"ticks\":\"\"}},\"coloraxis\":{\"colorbar\":{\"outlinewidth\":0,\"ticks\":\"\"}},\"colorscale\":{\"sequential\":[[0.0,\"#0d0887\"],[0.1111111111111111,\"#46039f\"],[0.2222222222222222,\"#7201a8\"],[0.3333333333333333,\"#9c179e\"],[0.4444444444444444,\"#bd3786\"],[0.5555555555555556,\"#d8576b\"],[0.6666666666666666,\"#ed7953\"],[0.7777777777777778,\"#fb9f3a\"],[0.8888888888888888,\"#fdca26\"],[1.0,\"#f0f921\"]],\"sequentialminus\":[[0.0,\"#0d0887\"],[0.1111111111111111,\"#46039f\"],[0.2222222222222222,\"#7201a8\"],[0.3333333333333333,\"#9c179e\"],[0.4444444444444444,\"#bd3786\"],[0.5555555555555556,\"#d8576b\"],[0.6666666666666666,\"#ed7953\"],[0.7777777777777778,\"#fb9f3a\"],[0.8888888888888888,\"#fdca26\"],[1.0,\"#f0f921\"]],\"diverging\":[[0,\"#8e0152\"],[0.1,\"#c51b7d\"],[0.2,\"#de77ae\"],[0.3,\"#f1b6da\"],[0.4,\"#fde0ef\"],[0.5,\"#f7f7f7\"],[0.6,\"#e6f5d0\"],[0.7,\"#b8e186\"],[0.8,\"#7fbc41\"],[0.9,\"#4d9221\"],[1,\"#276419\"]]},\"xaxis\":{\"gridcolor\":\"white\",\"linecolor\":\"white\",\"ticks\":\"\",\"title\":{\"standoff\":15},\"zerolinecolor\":\"white\",\"automargin\":true,\"zerolinewidth\":2},\"yaxis\":{\"gridcolor\":\"white\",\"linecolor\":\"white\",\"ticks\":\"\",\"title\":{\"standoff\":15},\"zerolinecolor\":\"white\",\"automargin\":true,\"zerolinewidth\":2},\"scene\":{\"xaxis\":{\"backgroundcolor\":\"#E5ECF6\",\"gridcolor\":\"white\",\"linecolor\":\"white\",\"showbackground\":true,\"ticks\":\"\",\"zerolinecolor\":\"white\",\"gridwidth\":2},\"yaxis\":{\"backgroundcolor\":\"#E5ECF6\",\"gridcolor\":\"white\",\"linecolor\":\"white\",\"showbackground\":true,\"ticks\":\"\",\"zerolinecolor\":\"white\",\"gridwidth\":2},\"zaxis\":{\"backgroundcolor\":\"#E5ECF6\",\"gridcolor\":\"white\",\"linecolor\":\"white\",\"showbackground\":true,\"ticks\":\"\",\"zerolinecolor\":\"white\",\"gridwidth\":2}},\"shapedefaults\":{\"line\":{\"color\":\"#2a3f5f\"}},\"annotationdefaults\":{\"arrowcolor\":\"#2a3f5f\",\"arrowhead\":0,\"arrowwidth\":1},\"geo\":{\"bgcolor\":\"white\",\"landcolor\":\"#E5ECF6\",\"subunitcolor\":\"white\",\"showland\":true,\"showlakes\":true,\"lakecolor\":\"white\"},\"title\":{\"x\":0.05},\"mapbox\":{\"style\":\"light\"}}},\"margin\":{\"l\":0,\"r\":0,\"b\":0},\"title\":{\"text\":\"\\u003cb\\u003eСравнительная статистика по городам\\u003c\\u002fb\\u003e\"}},                        {\"responsive\": true}                    ).then(function(){\n",
              "                            \n",
              "var gd = document.getElementById('e7c31c0c-98fa-4b24-8551-5995dee3a4cc');\n",
              "var x = new MutationObserver(function (mutations, observer) {{\n",
              "        var display = window.getComputedStyle(gd).display;\n",
              "        if (!display || display === 'none') {{\n",
              "            console.log([gd, 'removed!']);\n",
              "            Plotly.purge(gd);\n",
              "            observer.disconnect();\n",
              "        }}\n",
              "}});\n",
              "\n",
              "// Listen for the removal of the full notebook cells\n",
              "var notebookContainer = gd.closest('#notebook-container');\n",
              "if (notebookContainer) {{\n",
              "    x.observe(notebookContainer, {childList: true});\n",
              "}}\n",
              "\n",
              "// Listen for the clearing of the current output cell\n",
              "var outputEl = gd.closest('.output');\n",
              "if (outputEl) {{\n",
              "    x.observe(outputEl, {childList: true});\n",
              "}}\n",
              "\n",
              "                        })                };                            </script>        </div>\n",
              "</body>\n",
              "</html>"
            ]
          },
          "metadata": {}
        }
      ],
      "source": [
        "stats = weather.groupby('city').agg({\n",
        "    'temp_c': ['mean', 'max', 'min'],\n",
        "    'humidity': 'mean',\n",
        "    'wind_speed_kmh': 'max',\n",
        "    'rain_mm': 'sum'\n",
        "}).round(1)\n",
        "fig = go.Figure(data=[go.Table(\n",
        "    header=dict(values=['Город', 'Ср. темп.', 'Макс. темп.', 'Мин. темп.', 'Влажность', 'Макс. ветер', 'Осадки'], fill_color='#3498db', font=dict(color='white', size=12)),\n",
        "    cells=dict(values=[stats.index] + [stats[col] for col in stats.columns], fill_color='lavender', align='center')\n",
        ")])\n",
        "fig.update_layout(title='<b>Сравнительная статистика по городам</b>', margin=dict(l=0, r=0, b=0))\n",
        "fig.show()"
      ]
    },
    {
      "cell_type": "markdown",
      "metadata": {
        "id": "hAx5XwKxaXyS"
      },
      "source": [
        "## 🔍 Выводы"
      ]
    },
    {
      "cell_type": "markdown",
      "metadata": {
        "id": "_k3mQ4LyaXyS"
      },
      "source": [
        "- Самара была самым тёплым городом\n",
        "- Санкт-Петербург — самым дождливым\n",
        "- Москва имела самые сильные ветры и температурные колебания"
      ]
    }
  ],
  "metadata": {
    "kernelspec": {
      "display_name": "Python 3",
      "language": "python",
      "name": "python3"
    },
    "language_info": {
      "name": "python",
      "version": "3.9.0"
    },
    "colab": {
      "provenance": []
    }
  },
  "nbformat": 4,
  "nbformat_minor": 0
}