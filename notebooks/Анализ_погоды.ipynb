{
 "cells": [
  {
   "cell_type": "markdown",
   "metadata": {},
   "source": [
    "# 🌦 Анализ погоды в Москве, Санкт-Петербурге и Самаре\n",
    "### Автоматизированная система сравнения метеопараметров"
   ]
  },
  {
   "cell_type": "code",
   "execution_count": null,
   "metadata": {},
   "outputs": [],
   "source": [
    "import pandas as pd\n",
    "import plotly.express as px\n",
    "import plotly.graph_objects as go\n",
    "from plotly.subplots import make_subplots\n",
    "from IPython.display import display, HTML\n",
    "\n",
    "display(HTML('''\n",
    "<style>\n",
    ".header {\n",
    "    color: #3498db;\n",
    "    font-family: Arial;\n",
    "    text-align: center;\n",
    "}\n",
    ".plot-container {\n",
    "    margin: 20px 0;\n",
    "    border: 1px solid #eee;\n",
    "    border-radius: 5px;\n",
    "    padding: 10px;\n",
    "}\n",
    "</style>\n",
    "'''))"
   ]
  },
  {
   "cell_type": "markdown",
   "metadata": {},
   "source": [
    "## 📈 Основные метеопараметры"
   ]
  },
  {
   "cell_type": "code",
   "execution_count": null,
   "metadata": {},
   "outputs": [],
   "source": [
    "fig = make_subplots(rows=2, cols=2, subplot_titles=(\"Температура\", \"Влажность\", \"Атм. давление\", \"Осадки\"))\n",
    "for city in weather['city'].unique():\n",
    "    city_data = weather[weather['city'] == city]\n",
    "    fig.add_trace(go.Scatter(x=city_data['datetime'], y=city_data['temp_c'], name=f\"{city} - Температура\"), row=1, col=1)\n",
    "    fig.add_trace(go.Scatter(x=city_data['datetime'], y=city_data['humidity'], name=f\"{city} - Влажность\"), row=1, col=2)\n",
    "    fig.add_trace(go.Scatter(x=city_data['datetime'], y=city_data['pressure'], name=f\"{city} - Давление\"), row=2, col=1)\n",
    "    fig.add_trace(go.Bar(x=city_data['datetime'], y=city_data['rain_mm'], name=f\"{city} - Осадки\"), row=2, col=2)\n",
    "fig.update_layout(height=800, title_text=\"<b>Сравнение основных метеопараметров</b>\", hovermode=\"x unified\", template=\"plotly_white\")\n",
    "fig.show()"
   ]
  },
  {
   "cell_type": "markdown",
   "metadata": {},
   "source": [
    "## 🌡️ Тепловая карта температур"
   ]
  },
  {
   "cell_type": "code",
   "execution_count": null,
   "metadata": {},
   "outputs": [],
   "source": [
    "fig = px.imshow(\n",
    "    pd.pivot_table(weather, values='temp_c', index='city', columns='datetime'),\n",
    "    labels=dict(x=\"Дата\", y=\"Город\", color=\"Температура\"),\n",
    "    color_continuous_scale='RdBu_r',\n",
    "    title='<b>Тепловая карта температур по дням</b>'\n",
    ")\n",
    "fig.update_xaxes(side=\"top\")\n",
    "fig.show()"
   ]
  },
  {
   "cell_type": "markdown",
   "metadata": {},
   "source": [
    "## 🌀 Ветровые условия"
   ]
  },
  {
   "cell_type": "code",
   "execution_count": null,
   "metadata": {},
   "outputs": [],
   "source": [
    "fig = px.scatter_polar(weather, r=\"wind_speed_kmh\", theta=\"datetime\", color=\"city\", symbol=\"city\", title=\"<b>Роза ветров по городам</b>\", template=\"plotly_dark\")\n",
    "fig.update_traces(marker=dict(size=8, line=dict(width=1, color='DarkSlateGrey')))\n",
    "fig.show()"
   ]
  },
  {
   "cell_type": "markdown",
   "metadata": {},
   "source": [
    "## 📊 Сравнительная статистика"
   ]
  },
  {
   "cell_type": "code",
   "execution_count": null,
   "metadata": {},
   "outputs": [],
   "source": [
    "stats = weather.groupby('city').agg({\n",
    "    'temp_c': ['mean', 'max', 'min'],\n",
    "    'humidity': 'mean',\n",
    "    'wind_speed_kmh': 'max',\n",
    "    'rain_mm': 'sum'\n",
    "}).round(1)\n",
    "fig = go.Figure(data=[go.Table(\n",
    "    header=dict(values=['Город', 'Ср. темп.', 'Макс. темп.', 'Мин. темп.', 'Влажность', 'Макс. ветер', 'Осадки'], fill_color='#3498db', font=dict(color='white', size=12)),\n",
    "    cells=dict(values=[stats.index] + [stats[col] for col in stats.columns], fill_color='lavender', align='center')\n",
    ")])\n",
    "fig.update_layout(title='<b>Сравнительная статистика по городам</b>', margin=dict(l=0, r=0, b=0))\n",
    "fig.show()"
   ]
  },
  {
   "cell_type": "markdown",
   "metadata": {},
   "source": [
    "## 🔍 Выводы"
   ]
  },
  {
   "cell_type": "markdown",
   "metadata": {},
   "source": [
    "- Самара была самым тёплым городом\n",
    "- Санкт-Петербург — самым дождливым\n",
    "- Москва имела самые сильные ветры и температурные колебания"
   ]
  }
 ],
 "metadata": {
  "kernelspec": {
   "display_name": "Python 3",
   "language": "python",
   "name": "python3"
  },
  "language_info": {
   "name": "python",
   "version": "3.9.0"
  }
 },
 "nbformat": 4,
 "nbformat_minor": 4
}